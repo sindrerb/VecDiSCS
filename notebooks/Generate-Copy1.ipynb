{
 "cells": [
  {
   "cell_type": "code",
   "execution_count": 1,
   "metadata": {},
   "outputs": [
    {
     "name": "stderr",
     "output_type": "stream",
     "text": [
      "WARNING:hyperspy.api:The traitsui GUI elements are not available, probably because the hyperspy_gui_traitui package is not installed.\n"
     ]
    }
   ],
   "source": [
    "import hyperspy.api as hs\n",
    "import numpy  as np\n",
    "import spglib as spg\n",
    "import matplotlib.pyplot as plt\n",
    "\n",
    "from EELS import system, spectrum\n",
    "from matplotlib import colors\n",
    "from scipy import signal\n",
    "\n",
    "folder = \"./\""
   ]
  },
  {
   "cell_type": "markdown",
   "metadata": {},
   "source": [
    "# Define cells and symmetry\n",
    "For parabolic bands, use a cubic symmetry"
   ]
  },
  {
   "cell_type": "code",
   "execution_count": 2,
   "metadata": {},
   "outputs": [
    {
     "name": "stdout",
     "output_type": "stream",
     "text": [
      "P6_3mc (186)\n"
     ]
    }
   ],
   "source": [
    "lattice = np.array([[ 3.2871687359128612, 0.0000000000000000, 0.0000000000000000],\n",
    "                    [-1.6435843679564306, 2.8467716318265182, 0.0000000000000000],\n",
    "                    [ 0.0000000000000000, 0.0000000000000000, 5.3045771064003047]])\n",
    "\n",
    "positions = [[0.3333333333333357,  0.6666666666666643,  0.9996814330926364],\n",
    "             [0.6666666666666643,  0.3333333333333357,  0.4996814330926362],\n",
    "             [0.3333333333333357,  0.6666666666666643,  0.3787615522102606],\n",
    "             [0.6666666666666643,  0.3333333333333357,  0.8787615522102604]]\n",
    "\n",
    "numbers = [30, 30, 8, 8]\n",
    "\n",
    "cell= (lattice, positions, numbers)\n",
    "sym = spg.get_symmetry(cell, symprec=1e-5)\n",
    "print(spg.get_spacegroup(cell, symprec=1e-5))"
   ]
  },
  {
   "cell_type": "code",
   "execution_count": 3,
   "metadata": {},
   "outputs": [],
   "source": [
    "def brillouinZone(lattice):\n",
    "    a = lattice[0]\n",
    "    b = lattice[1]\n",
    "    c = lattice[2]\n",
    "\n",
    "    volume = a.dot(np.cross(b,c))\n",
    "    \n",
    "    a_r = 2*np.pi*np.cross(b,c)/volume\n",
    "    b_r = 2*np.pi*np.cross(c,a)/volume\n",
    "    c_r = 2*np.pi*np.cross(a,b)/volume\n",
    "    return np.vstack([a_r,b_r,c_r])"
   ]
  },
  {
   "cell_type": "code",
   "execution_count": 4,
   "metadata": {},
   "outputs": [
    {
     "data": {
      "text/plain": [
       "array([[ 1.91142768,  1.10356328, -0.        ],\n",
       "       [ 0.        ,  2.20712657,  0.        ],\n",
       "       [ 0.        , -0.        ,  1.18448374]])"
      ]
     },
     "execution_count": 4,
     "metadata": {},
     "output_type": "execute_result"
    }
   ],
   "source": [
    "BZ = brillouinZone(lattice)\n",
    "BZ"
   ]
  },
  {
   "cell_type": "code",
   "execution_count": 5,
   "metadata": {},
   "outputs": [],
   "source": [
    "mesh = np.array([5, 5, 5]) # use odd numbers"
   ]
  },
  {
   "cell_type": "code",
   "execution_count": 6,
   "metadata": {},
   "outputs": [
    {
     "data": {
      "text/plain": [
       "(125, 3)"
      ]
     },
     "execution_count": 6,
     "metadata": {},
     "output_type": "execute_result"
    }
   ],
   "source": [
    "mapping, grid = spg.get_ir_reciprocal_mesh(mesh, cell, is_shift=[0, 0, 0])\n",
    "grid.shape"
   ]
  },
  {
   "cell_type": "code",
   "execution_count": 7,
   "metadata": {},
   "outputs": [
    {
     "data": {
      "text/plain": [
       "array([[ 0.        ,  0.        ,  0.        ],\n",
       "       [ 0.47785692,  0.27589082,  0.        ],\n",
       "       [ 0.95571384,  0.55178164,  0.        ],\n",
       "       [ 0.47785692,  0.82767246,  0.        ],\n",
       "       [ 0.95571384,  1.10356328,  0.        ],\n",
       "       [ 0.        ,  0.        ,  0.29612093],\n",
       "       [ 0.47785692,  0.27589082,  0.29612093],\n",
       "       [ 0.95571384,  0.55178164,  0.29612093],\n",
       "       [ 0.47785692,  0.82767246,  0.29612093],\n",
       "       [ 0.95571384,  1.10356328,  0.29612093],\n",
       "       [ 0.        ,  0.        ,  0.59224187],\n",
       "       [ 0.47785692,  0.27589082,  0.59224187],\n",
       "       [ 0.95571384,  0.55178164,  0.59224187],\n",
       "       [ 0.47785692,  0.82767246,  0.59224187],\n",
       "       [ 0.95571384,  1.10356328,  0.59224187]])"
      ]
     },
     "execution_count": 7,
     "metadata": {},
     "output_type": "execute_result"
    }
   ],
   "source": [
    "occurences = np.bincount(mapping)[np.unique(mapping)]\n",
    "\n",
    "grid_ir = grid/(mesh-1)\n",
    "grid_ir = grid_ir[np.unique(mapping)]\n",
    "mapping_ir = mapping[np.unique(mapping)]\n",
    "\n",
    "qSpace = np.max(np.abs(BZ),axis=0)\n",
    "\n",
    "#for i in range(len(mapping_ir)):\n",
    "#    print(\"occ = \",occurences[i], \"\\t irr = \",\"\\t\",np.dot(grid_ir[i],BZ),\"\\t\", np.linalg.norm(np.dot(grid_ir[i],BZ)))\n",
    "\n",
    "qBins = np.round(qSpace*mesh).astype(int)\n",
    "\n",
    "np.dot(grid_ir,BZ)"
   ]
  },
  {
   "cell_type": "markdown",
   "metadata": {},
   "source": [
    "# Generate energies, waves and k-list"
   ]
  },
  {
   "cell_type": "code",
   "execution_count": 8,
   "metadata": {},
   "outputs": [],
   "source": [
    "def gauss(sigma, eRange):\n",
    "    dE = eRange[1]-eRange[0]\n",
    "    gx = np.arange(-3*sigma,3*sigma, dE)\n",
    "    gaussian = np.exp(-0.5*(gx/sigma)**2)\n",
    "    gaussian = gaussian/np.sum(gaussian)\n",
    "    \n",
    "    gauss =np.zeros((len(gaussian),1,1,1))\n",
    "    gauss[:,0,0,0] = gaussian\n",
    "    return gauss\n",
    "\n",
    "def smooth(hist, eRange, sigma):\n",
    "    gaussian = gauss(sigma, eRange)\n",
    "    \n",
    "    crop_front = len(gaussian)//2\n",
    "    if len(gaussian)%2 == 1:\n",
    "        crop_end = crop_front\n",
    "    else:\n",
    "        crop_end = crop_front-1\n",
    "        \n",
    "    return signal.convolve(hist, gaussian)[crop_front:-crop_end]"
   ]
  },
  {
   "cell_type": "code",
   "execution_count": 9,
   "metadata": {},
   "outputs": [],
   "source": [
    "_hbar = 1973 #eV AA\n",
    "_me = .511e6 #eV/c^2\n",
    "\n",
    "def band(k_vec, E0, m, k_center):\n",
    "    band = E0+(_hbar**2/(2*_me))*((k_vec[:,0]-k_center[0])**2/m[0]\\\n",
    "               +(k_vec[:,1]-k_center[1])**2/m[1]\\\n",
    "               +(k_vec[:,2]-k_center[2])**2/m[2])\n",
    "    return band"
   ]
  },
  {
   "cell_type": "code",
   "execution_count": 10,
   "metadata": {},
   "outputs": [],
   "source": [
    "wave = np.array([0, 1])\n",
    "\n",
    "band_gap = 3.3\n",
    "fermiEnergy =  1.65#band_gap + 1.13\n",
    "#ZnO\n",
    "coordinates = [[  0.0,   0.0,   0.0], [  0.0,    0.0,   0.0], [  0.0,    0.0,   0.0], [  0.0,   0.0,   0.0]]\n",
    "eff_masses  = [[-2.55, -2.55, -0.27], [-2.45,  -2.45, -2.45], [-0.34,  -0.34, -2.47], [ 0.29,  0.29,  0.25]]\n",
    "energy_offset =  [0.0, 0.0, 0.0, band_gap]\n",
    "\n",
    "\"\"\"#Model\n",
    "coordinates = [[  0.0,    0.0,   0.0], [  0.0,   0.0,   0.0]]\n",
    "eff_masses  = [[-0.34,  -0.34, -0.27], [ 0.29,  0.29,  0.25]]\n",
    "energy_offset =  [0.0, band_gap]\n",
    "\n",
    "\"\"\"\n",
    "\n",
    "k_list = []\n",
    "bands = []\n",
    "for i in range(len(coordinates)):\n",
    "    bands.append((coordinates[i],eff_masses[i],energy_offset[i]))\n",
    "\n",
    "k_arr = np.zeros((len(np.unique(mapping)),len(grid[0])))\n",
    "e_arr = np.zeros((len(np.unique(mapping)),len(bands),))\n",
    "w_arr = np.zeros((len(np.unique(mapping)),len(bands),len(wave)))\n",
    "\n",
    "for i, map_id in enumerate(mapping[np.unique(mapping)]):\n",
    "    k_list.append((grid[mapping==map_id]/(mesh-1)).tolist())\n",
    "    k_arr[i] = grid[map_id]/(mesh-1)\n",
    "\n",
    "\n",
    "for i, band_info in enumerate(bands):\n",
    "    e_arr[:,i] = band(k_arr, band_info[2], band_info[1], band_info[0])\n",
    "    w_arr[:,i] = np.outer(wave,np.ones(len(k_arr))).T\n",
    "\n",
    "#np.stack([w_arr[:,0],w_arr[:,1],w_arr[:,2],w_arr[:,3]], axis=1)"
   ]
  },
  {
   "cell_type": "code",
   "execution_count": 11,
   "metadata": {},
   "outputs": [],
   "source": [
    "def fermiDirac(E,Ef,T):\n",
    "    T = T*(0.0259/298)\n",
    "    return 1.0/(np.exp((E-Ef)/T)+1)"
   ]
  },
  {
   "cell_type": "code",
   "execution_count": 12,
   "metadata": {
    "scrolled": false
   },
   "outputs": [
    {
     "name": "stderr",
     "output_type": "stream",
     "text": [
      "/home/sindrerb/anaconda3/envs/hySpy2/lib/python3.6/site-packages/ipykernel_launcher.py:3: RuntimeWarning: overflow encountered in exp\n",
      "  This is separate from the ipykernel package so we can avoid doing imports until\n"
     ]
    },
    {
     "data": {
      "image/png": "[encoded data removed]",
      "text/plain": [
       "<matplotlib.figure.Figure at 0x7fcf6a3a01d0>"
      ]
     },
     "metadata": {},
     "output_type": "display_data"
    }
   ],
   "source": [
    "fermiEnergy = 3.2\n",
    "k = np.linspace(-0.5,0.5,100)\n",
    "k = np.stack([k,np.zeros(len(k)),np.zeros(len(k))],axis=1)\n",
    "E = np.linspace(-1,5,100)\n",
    "plt.xlabel('k_x')\n",
    "plt.ylabel('Energy')\n",
    "old_band = 0\n",
    "test = []\n",
    "for i, band_info in enumerate(bands):\n",
    "    band_energies = band(k, band_info[2], band_info[1], band_info[0])\n",
    "    plt.plot(k[:,0],band_energies)\n",
    "    old_band = band_energies\n",
    "#plt.plot([-0.5,0.5],[fermiEnergy,fermiEnergy],'--')\n",
    "plt.plot(fermiDirac(E,fermiEnergy,10)-0.5,E,'--')\n",
    "plt.show()"
   ]
  },
  {
   "cell_type": "code",
   "execution_count": 13,
   "metadata": {},
   "outputs": [
    {
     "data": {
      "text/plain": [
       "[4.2142468102025887]"
      ]
     },
     "execution_count": 13,
     "metadata": {},
     "output_type": "execute_result"
    }
   ],
   "source": [
    "direct = []\n",
    "\n",
    "for fermiEnergy in [3.6]:\n",
    "    dEmin = 10\n",
    "    for k in k_list:\n",
    "        band_c = band(np.array([k[0]]), bands[-1][2], bands[-1][1], bands[-1][0])\n",
    "\n",
    "        if band_c > fermiEnergy:\n",
    "            for i, band_info in enumerate(bands[:-1]):\n",
    "                band_v = band(np.array([k[0]]), band_info[2], band_info[1], band_info[0])\n",
    "                dEmin = np.min([dEmin, band_c-band_v])\n",
    "\n",
    "    direct.append(dEmin)\n",
    "direct"
   ]
  },
  {
   "cell_type": "markdown",
   "metadata": {},
   "source": [
    "# Calculate histogram\n"
   ]
  },
  {
   "cell_type": "code",
   "execution_count": 14,
   "metadata": {},
   "outputs": [],
   "source": [
    "eBin = np.linspace(3,7,80)"
   ]
  },
  {
   "cell_type": "code",
   "execution_count": 15,
   "metadata": {
    "scrolled": true
   },
   "outputs": [],
   "source": [
    "model = \"Parabolic\"\n",
    "name = \"Hexagonal projection {}\"\n",
    "title = name\n",
    "notes = \"Simple test of hexagonal projection \"\n",
    "meta = spectrum.createMeta(name=name, title=title, authors=\"Sindre R. Bilden\", notes=notes, model=model, cell=lattice, fermi=fermiEnergy, coordinates=coordinates, effective_masses=eff_masses, energy_levels=energy_offset)"
   ]
  },
  {
   "cell_type": "code",
   "execution_count": 16,
   "metadata": {},
   "outputs": [
    {
     "name": "stdout",
     "output_type": "stream",
     "text": [
      "[[ 1.91142768  1.10356328 -0.        ]\n",
      " [ 0.          2.20712657  0.        ]\n",
      " [ 0.         -0.          1.18448374]]\n"
     ]
    },
    {
     "ename": "TypeError",
     "evalue": "function takes exactly 9 arguments (5 given)",
     "output_type": "error",
     "traceback": [
      "\u001b[0;31m-----------------------------------------------------------------------\u001b[0m",
      "\u001b[0;31mTypeError\u001b[0m                             Traceback (most recent call last)",
      "\u001b[0;32m<ipython-input-16-f3ef9c6549ae>\u001b[0m in \u001b[0;36m<module>\u001b[0;34m()\u001b[0m\n\u001b[0;32m----> 1\u001b[0;31m \u001b[0mEELS\u001b[0m \u001b[0;34m=\u001b[0m \u001b[0mspectrum\u001b[0m\u001b[0;34m.\u001b[0m\u001b[0mcalculate_spectrum\u001b[0m\u001b[0;34m(\u001b[0m\u001b[0;34m(\u001b[0m\u001b[0mmesh\u001b[0m\u001b[0;34m,\u001b[0m\u001b[0mk_list\u001b[0m\u001b[0;34m,\u001b[0m\u001b[0me_arr\u001b[0m\u001b[0;34m,\u001b[0m\u001b[0mw_arr\u001b[0m\u001b[0;34m)\u001b[0m\u001b[0;34m,\u001b[0m\u001b[0meBin\u001b[0m\u001b[0;34m,\u001b[0m\u001b[0mfermiEnergy\u001b[0m\u001b[0;34m,\u001b[0m \u001b[0mbrillouinZone\u001b[0m \u001b[0;34m=\u001b[0m \u001b[0mBZ\u001b[0m\u001b[0;34m,\u001b[0m \u001b[0mtemperature\u001b[0m\u001b[0;34m=\u001b[0m\u001b[0;36m0\u001b[0m\u001b[0;34m)\u001b[0m\u001b[0;34m\u001b[0m\u001b[0m\n\u001b[0m",
      "\u001b[0;32m~/anaconda3/envs/hySpy2/lib/python3.6/site-packages/EELS/spectrum.py\u001b[0m in \u001b[0;36mcalculate_spectrum\u001b[0;34m(data_structre, energy_binning, fermi_energy, brillouinZone, temperature)\u001b[0m\n\u001b[1;32m    126\u001b[0m     \u001b[0mtemperature\u001b[0m \u001b[0;34m=\u001b[0m \u001b[0mtemperature\u001b[0m\u001b[0;34m*\u001b[0m\u001b[0;34m(\u001b[0m\u001b[0;36m0.0259\u001b[0m\u001b[0;34m/\u001b[0m\u001b[0;36m298\u001b[0m\u001b[0;34m)\u001b[0m\u001b[0;34m\u001b[0m\u001b[0m\n\u001b[1;32m    127\u001b[0m \u001b[0;34m\u001b[0m\u001b[0m\n\u001b[0;32m--> 128\u001b[0;31m     \u001b[0mA\u001b[0m \u001b[0;34m=\u001b[0m \u001b[0m_spectrum\u001b[0m\u001b[0;34m.\u001b[0m\u001b[0mcalculate_spectrum\u001b[0m\u001b[0;34m(\u001b[0m\u001b[0mdata_structre\u001b[0m\u001b[0;34m,\u001b[0m \u001b[0menergy_binning\u001b[0m\u001b[0;34m,\u001b[0m \u001b[0mbrillouinZone\u001b[0m\u001b[0;34m,\u001b[0m \u001b[0mfermi_energy\u001b[0m\u001b[0;34m,\u001b[0m \u001b[0mtemperature\u001b[0m\u001b[0;34m)\u001b[0m\u001b[0;34m\u001b[0m\u001b[0m\n\u001b[0m\u001b[1;32m    129\u001b[0m     \u001b[0;32mreturn\u001b[0m \u001b[0mA\u001b[0m\u001b[0;34m\u001b[0m\u001b[0m\n",
      "\u001b[0;31mTypeError\u001b[0m: function takes exactly 9 arguments (5 given)"
     ]
    }
   ],
   "source": [
    "EELS = spectrum.calculate_spectrum((mesh,k_list,e_arr,w_arr),eBin,fermiEnergy, brillouinZone = BZ, temperature=0)"
   ]
  },
  {
   "cell_type": "code",
   "execution_count": null,
   "metadata": {},
   "outputs": [],
   "source": [
    "signal = spectrum.createSignal(data=EELS,eBin=eBin,mesh=mesh,metadata=meta)"
   ]
  },
  {
   "cell_type": "code",
   "execution_count": null,
   "metadata": {},
   "outputs": [],
   "source": [
    "signal.metadata"
   ]
  },
  {
   "cell_type": "code",
   "execution_count": null,
   "metadata": {},
   "outputs": [],
   "source": [
    "spectrum.saveHyperspy(signal, filename='../Results/Schleife2009/five_bands/fermi_%.2f' %(fermiEnergy-band_gap))"
   ]
  },
  {
   "cell_type": "code",
   "execution_count": null,
   "metadata": {},
   "outputs": [],
   "source": [
    "EELS_smooth = smooth(EELS, eBin, 0.02) #smoothing of data"
   ]
  },
  {
   "cell_type": "code",
   "execution_count": null,
   "metadata": {},
   "outputs": [],
   "source": []
  }
 ],
 "metadata": {
  "kernelspec": {
   "display_name": "Python 3",
   "language": "python",
   "name": "python3"
  },
  "language_info": {
   "codemirror_mode": {
    "name": "ipython",
    "version": 3
   },
   "file_extension": ".py",
   "mimetype": "text/x-python",
   "name": "python",
   "nbconvert_exporter": "python",
   "pygments_lexer": "ipython3",
   "version": "3.6.3"
  }
 },
 "nbformat": 4,
 "nbformat_minor": 2
}
