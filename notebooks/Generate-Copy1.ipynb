{
 "cells": [
  {
   "cell_type": "code",
   "execution_count": 1,
   "metadata": {},
   "outputs": [
    {
     "name": "stderr",
     "output_type": "stream",
     "text": [
      "WARNING:hyperspy.api:The ipywidgets GUI elements are not available, probably because the hyperspy_gui_ipywidgets package is not installed.\n",
      "WARNING:hyperspy_gui_traitsui:The module://ipykernel.pylab.backend_inline matplotlib backend is not supported by the installed traitsui version and the ETS toolkit has been set to null. To set the ETS toolkit independently from the matplotlib backend, set it before importing matplotlib.\n",
      "WARNING:hyperspy_gui_traitsui:The traitsui GUI elements are not available.\n"
     ]
    }
   ],
   "source": [
    "import numpy  as np\n",
    "import spglib as spg\n",
    "import matplotlib.pyplot as plt\n",
    "import hyperspy.api as hs\n",
    "from EELS import system, spectrum\n",
    "from matplotlib import colors\n",
    "from scipy import signal\n",
    "\n",
    "folder = \"./\""
   ]
  },
  {
   "cell_type": "code",
   "execution_count": null,
   "metadata": {},
   "outputs": [],
   "source": []
  },
  {
   "cell_type": "markdown",
   "metadata": {},
   "source": [
    "# Define cells and symmetry\n",
    "For parabolic bands, use a cubic symmetry"
   ]
  },
  {
   "cell_type": "code",
   "execution_count": 76,
   "metadata": {},
   "outputs": [
    {
     "name": "stdout",
     "output_type": "stream",
     "text": [
      "P6_3mc (186)\n"
     ]
    }
   ],
   "source": [
    "lattice = np.array([[ 3.2871687359128612, 0.0000000000000000, 0.0000000000000000],\n",
    "                    [-1.6435843679564306, 2.8467716318265182, 0.0000000000000000],\n",
    "                    [ 0.0000000000000000, 0.0000000000000000, 5.3045771064003047]])\n",
    "\n",
    "positions = [[0.3333333333333357,  0.6666666666666643,  0.9996814330926364],\n",
    "             [0.6666666666666643,  0.3333333333333357,  0.4996814330926362],\n",
    "             [0.3333333333333357,  0.6666666666666643,  0.3787615522102606],\n",
    "             [0.6666666666666643,  0.3333333333333357,  0.8787615522102604]]\n",
    "\n",
    "numbers = [30, 30, 8, 8]\n",
    "\n",
    "cell= (lattice, positions, numbers)\n",
    "sym = spg.get_symmetry(cell, symprec=1e-5)\n",
    "print(spg.get_spacegroup(cell, symprec=1e-5))"
   ]
  },
  {
   "cell_type": "code",
   "execution_count": 89,
   "metadata": {},
   "outputs": [],
   "source": [
    "mesh = np.array([51, 51, 51]) # use odd numbers"
   ]
  },
  {
   "cell_type": "code",
   "execution_count": 90,
   "metadata": {},
   "outputs": [
    {
     "data": {
      "text/plain": [
       "(132651, 3)"
      ]
     },
     "execution_count": 90,
     "metadata": {},
     "output_type": "execute_result"
    }
   ],
   "source": [
    "mapping, grid = spg.get_ir_reciprocal_mesh(mesh, cell, is_shift=[0, 0, 0])\n",
    "grid.shape"
   ]
  },
  {
   "cell_type": "code",
   "execution_count": 91,
   "metadata": {},
   "outputs": [],
   "source": [
    "occurences = np.bincount(mapping)[np.unique(mapping)]\n",
    "\n",
    "grid_ir = grid/(mesh-1)\n",
    "grid_ir = grid_ir[np.unique(mapping)]\n",
    "mapping_ir = mapping[np.unique(mapping)]\n",
    "\n",
    "\n",
    "#for i in range(len(mapping_ir)):\n",
    "#    print(\"occ = \",occurences[i], \"\\t irr = \",grid_ir[i])"
   ]
  },
  {
   "cell_type": "markdown",
   "metadata": {},
   "source": [
    "# Generate energies, waves and k-list"
   ]
  },
  {
   "cell_type": "code",
   "execution_count": 80,
   "metadata": {},
   "outputs": [],
   "source": [
    "def gauss(sigma, eRange):\n",
    "    dE = eRange[1]-eRange[0]\n",
    "    gx = np.arange(-3*sigma,3*sigma, dE)\n",
    "    gaussian = np.exp(-0.5*(gx/sigma)**2)\n",
    "    gaussian = gaussian/np.sum(gaussian)\n",
    "    \n",
    "    gauss =np.zeros((len(gaussian),1,1,1))\n",
    "    gauss[:,0,0,0] = gaussian\n",
    "    return gauss\n",
    "\n",
    "def smooth(hist, eRange, sigma):\n",
    "    gaussian = gauss(sigma, eRange)\n",
    "    \n",
    "    crop_front = len(gaussian)//2\n",
    "    if len(gaussian)%2 == 1:\n",
    "        crop_end = crop_front\n",
    "    else:\n",
    "        crop_end = crop_front-1\n",
    "        \n",
    "    return signal.convolve(hist, gaussian)[crop_front:-crop_end]"
   ]
  },
  {
   "cell_type": "code",
   "execution_count": 81,
   "metadata": {},
   "outputs": [],
   "source": [
    "_hbar = 1973 #eV AA\n",
    "_me = .511e6 #eV/c^2\n",
    "\n",
    "def band(k_vec, E0, m, k_center):\n",
    "    band = E0+(_hbar**2/(2*_me))*((k_vec[:,0]-k_center[0])**2/m[0]\\\n",
    "               +(k_vec[:,1]-k_center[1])**2/m[1]\\\n",
    "               +(k_vec[:,2]-k_center[2])**2/m[2])\n",
    "    return band"
   ]
  },
  {
   "cell_type": "code",
   "execution_count": 103,
   "metadata": {},
   "outputs": [],
   "source": [
    "wave = np.array([0, 1])\n",
    "\n",
    "band_gap = 3.3\n",
    "fermiEnergy =  1.65#band_gap + 1.13\n",
    "#ZnO\n",
    "coordinates = [[  0.0,   0.0,   0.0], [  0.0,    0.0,   0.0], [  0.0,    0.0,   0.0], [  0.0,   0.0,   0.0]]\n",
    "eff_masses  = [[-2.55, -2.55, -0.27], [-2.45,  -2.45, -2.45], [-0.34,  -0.34, -2.47], [ 0.29,  0.29,  0.25]]\n",
    "energy_offset =  [0.0, 0.0, 0.0, band_gap]\n",
    "\n",
    "#Model\n",
    "coordinates = [[  0.0,    0.0,   0.0], [  0.0,   0.0,   0.0]]\n",
    "eff_masses  = [[-0.34,  -0.34, -0.27], [ 0.29,  0.29,  0.25]]\n",
    "energy_offset =  [0.0, band_gap]\n",
    "\n",
    "\n",
    "\n",
    "\n",
    "k_list = []\n",
    "bands = []\n",
    "for i in range(len(coordinates)):\n",
    "    bands.append((coordinates[i],eff_masses[i],energy_offset[i]))\n",
    "\n",
    "k_arr = np.zeros((len(np.unique(mapping)),len(grid[0])))\n",
    "e_arr = np.zeros((len(np.unique(mapping)),len(bands),))\n",
    "w_arr = np.zeros((len(np.unique(mapping)),len(bands),len(wave)))\n",
    "\n",
    "for i, map_id in enumerate(mapping[np.unique(mapping)]):\n",
    "    k_list.append((grid[mapping==map_id]/(mesh-1)).tolist())\n",
    "    k_arr[i] = grid[map_id]/(mesh-1)\n",
    "\n",
    "\n",
    "for i, band_info in enumerate(bands):\n",
    "    e_arr[:,i] = band(k_arr, band_info[2], band_info[1], band_info[0])\n",
    "    w_arr[:,i] = np.outer(wave,np.ones(len(k_arr))).T\n"
   ]
  },
  {
   "cell_type": "code",
   "execution_count": 104,
   "metadata": {},
   "outputs": [],
   "source": [
    "def fermiDirac(E,Ef,T):\n",
    "    T = T*(0.0259/298)\n",
    "    return 1.0/(np.exp((E-Ef)/T)+1)"
   ]
  },
  {
   "cell_type": "code",
   "execution_count": 105,
   "metadata": {
    "scrolled": false
   },
   "outputs": [
    {
     "name": "stderr",
     "output_type": "stream",
     "text": [
      "/home/sindrerb/anaconda3/envs/hySpy/lib/python3.6/site-packages/ipykernel_launcher.py:3: RuntimeWarning: overflow encountered in exp\n",
      "  This is separate from the ipykernel package so we can avoid doing imports until\n"
     ]
    },
    {
     "data": {
      "image/png": "[encoded data removed]",
      "text/plain": [
       "<matplotlib.figure.Figure at 0x7fc0b8365400>"
      ]
     },
     "metadata": {},
     "output_type": "display_data"
    }
   ],
   "source": [
    "fermiEnergy = 3.4\n",
    "k = np.linspace(-0.5,0.5,100)\n",
    "k = np.stack([k,np.zeros(len(k)),np.zeros(len(k))],axis=1)\n",
    "E = np.linspace(-1,5,100)\n",
    "plt.xlabel('k_x')\n",
    "plt.ylabel('Energy')\n",
    "old_band = 0\n",
    "test = []\n",
    "for i, band_info in enumerate(bands):\n",
    "    band_energies = band(k, band_info[2], band_info[1], band_info[0])\n",
    "    plt.plot(k[:,0],band_energies)\n",
    "    old_band = band_energies\n",
    "#plt.plot([-0.5,0.5],[fermiEnergy,fermiEnergy],'--')\n",
    "plt.plot(fermiDirac(E,fermiEnergy,10)-0.5,E,'--')\n",
    "plt.show()"
   ]
  },
  {
   "cell_type": "code",
   "execution_count": 114,
   "metadata": {},
   "outputs": [
    {
     "data": {
      "text/plain": [
       "[3.8628928618004825]"
      ]
     },
     "execution_count": 114,
     "metadata": {},
     "output_type": "execute_result"
    }
   ],
   "source": [
    "direct = []\n",
    "\n",
    "for fermiEnergy in [3.6]:\n",
    "    dEmin = 10\n",
    "    for k in k_list:\n",
    "        band_c = band(np.array([k[0]]), bands[-1][2], bands[-1][1], bands[-1][0])\n",
    "\n",
    "        if band_c > fermiEnergy:\n",
    "            for i, band_info in enumerate(bands[:-1]):\n",
    "                band_v = band(np.array([k[0]]), band_info[2], band_info[1], band_info[0])\n",
    "                dEmin = np.min([dEmin, band_c-band_v])\n",
    "\n",
    "    direct.append(dEmin)\n",
    "direct"
   ]
  },
  {
   "cell_type": "markdown",
   "metadata": {},
   "source": [
    "# Calculate histogram\n"
   ]
  },
  {
   "cell_type": "code",
   "execution_count": 12,
   "metadata": {},
   "outputs": [],
   "source": [
    "eBin = np.linspace(3,7,80)"
   ]
  },
  {
   "cell_type": "code",
   "execution_count": 13,
   "metadata": {
    "scrolled": true
   },
   "outputs": [],
   "source": [
    "model = \"Parabolic\"\n",
    "name = \"Scleife 5 bands fermi {}\".format(fermiEnergy)\n",
    "title = name\n",
    "notes = \"Based on Schleife 2009, Bands: G7c, G7+v, G7v, G7-v, G5v, last is approximate\"\n",
    "meta = spectrum.createMeta(name=name, title=title, authors=\"Sindre R. Bilden\", notes=notes, model=model, cell=lattice, fermi=fermiEnergy, coordinates=coordinates, effective_masses=eff_masses, energy_levels=energy_offset)"
   ]
  },
  {
   "cell_type": "code",
   "execution_count": 14,
   "metadata": {},
   "outputs": [],
   "source": [
    "EELS = spectrum.calculate_spectrum((mesh,k_list,e_arr,w_arr),eBin,fermiEnergy,10)"
   ]
  },
  {
   "cell_type": "code",
   "execution_count": 15,
   "metadata": {},
   "outputs": [
    {
     "name": "stderr",
     "output_type": "stream",
     "text": [
      "WARNING:hyperspy.signal:<Signal1D, title: Scleife 5 bands fermi 1.65, dimensions: (21, 21, 21|80)> data is replaced by its optimized copy\n"
     ]
    }
   ],
   "source": [
    "signal = spectrum.createSignal(data=EELS,eBin=eBin,mesh=mesh,metadata=meta)"
   ]
  },
  {
   "cell_type": "code",
   "execution_count": 16,
   "metadata": {},
   "outputs": [
    {
     "data": {
      "text/plain": [
       "├── General\n",
       "│   ├── authors = Sindre R. Bilden\n",
       "│   ├── name = Scleife 5 bands fermi 1.65\n",
       "│   ├── notes = Based on Schleife 2009, Bands: G7c, G7+v, G7v, G7-v, G5v, last is approximate\n",
       "│   └── title = Scleife 5 bands fermi 1.65\n",
       "├── Sample\n",
       "│   ├── description = Simulated material system\n",
       " See 'system' for further information.System model:  ... ]: [-2.45, -2.45, -2.45]\n",
       "m[3]: [-0.34, -0.34, -2.47]\n",
       "m[4]: [0.29, 0.29, 0.25]\n",
       "\n",
       "│   ├── elements = None\n",
       "│   └── system\n",
       "│       ├── cell\n",
       "│       │   ├── a = array([ 3.28716874,  0.        ,  0.        ])\n",
       "│       │   ├── b = array([-1.64358437,  2.84677163,  0.        ])\n",
       "│       │   └── c = array([ 0.        ,  0.        ,  5.30457711])\n",
       "│       ├── coordinates = [[0.0, 0.0, 0.0], [0.0, 0.0, 0.0], [0.0, 0.0, 0.0], [0.0, 0.0, 0.0], [0.0, 0.0, 0.0]]\n",
       "│       ├── effective_masses = [[-2.45, -2.45, -2.45], [-2.55, -2.55, -0.27], [-2.45, -2.45, -2.45], [-0.34, -0.34, -2.47], [0.29, 0.29, 0.25]]\n",
       "│       ├── energy_levels = [-0.5, 0.0, 0.0, 0.0, 3.3]\n",
       "│       ├── fermi = 1.65\n",
       "│       └── model = Parabolic\n",
       "└── Signal\n",
       "    ├── binned = True\n",
       "    └── signal_type = None"
      ]
     },
     "execution_count": 16,
     "metadata": {},
     "output_type": "execute_result"
    }
   ],
   "source": [
    "signal.metadata"
   ]
  },
  {
   "cell_type": "code",
   "execution_count": 17,
   "metadata": {},
   "outputs": [],
   "source": [
    "spectrum.saveHyperspy(signal, filename='../Results/Schleife2009/five_bands/fermi_%.2f' %(fermiEnergy-band_gap))"
   ]
  },
  {
   "cell_type": "code",
   "execution_count": 18,
   "metadata": {},
   "outputs": [
    {
     "ename": "AttributeError",
     "evalue": "'Signal1D' object has no attribute 'convolve'",
     "output_type": "error",
     "traceback": [
      "\u001b[0;31m---------------------------------------------------------------------------\u001b[0m",
      "\u001b[0;31mAttributeError\u001b[0m                            Traceback (most recent call last)",
      "\u001b[0;32m<ipython-input-18-f984baa5cfd1>\u001b[0m in \u001b[0;36m<module>\u001b[0;34m()\u001b[0m\n\u001b[0;32m----> 1\u001b[0;31m \u001b[0mEELS_smooth\u001b[0m \u001b[0;34m=\u001b[0m \u001b[0msmooth\u001b[0m\u001b[0;34m(\u001b[0m\u001b[0mEELS\u001b[0m\u001b[0;34m,\u001b[0m \u001b[0meBin\u001b[0m\u001b[0;34m,\u001b[0m \u001b[0;36m0.02\u001b[0m\u001b[0;34m)\u001b[0m \u001b[0;31m#smoothing of data\u001b[0m\u001b[0;34m\u001b[0m\u001b[0m\n\u001b[0m",
      "\u001b[0;32m<ipython-input-6-5bd1d6a51b72>\u001b[0m in \u001b[0;36msmooth\u001b[0;34m(hist, eRange, sigma)\u001b[0m\n\u001b[1;32m     18\u001b[0m         \u001b[0mcrop_end\u001b[0m \u001b[0;34m=\u001b[0m \u001b[0mcrop_front\u001b[0m\u001b[0;34m-\u001b[0m\u001b[0;36m1\u001b[0m\u001b[0;34m\u001b[0m\u001b[0m\n\u001b[1;32m     19\u001b[0m \u001b[0;34m\u001b[0m\u001b[0m\n\u001b[0;32m---> 20\u001b[0;31m     \u001b[0;32mreturn\u001b[0m \u001b[0msignal\u001b[0m\u001b[0;34m.\u001b[0m\u001b[0mconvolve\u001b[0m\u001b[0;34m(\u001b[0m\u001b[0mhist\u001b[0m\u001b[0;34m,\u001b[0m \u001b[0mgaussian\u001b[0m\u001b[0;34m)\u001b[0m\u001b[0;34m[\u001b[0m\u001b[0mcrop_front\u001b[0m\u001b[0;34m:\u001b[0m\u001b[0;34m-\u001b[0m\u001b[0mcrop_end\u001b[0m\u001b[0;34m]\u001b[0m\u001b[0;34m\u001b[0m\u001b[0m\n\u001b[0m",
      "\u001b[0;31mAttributeError\u001b[0m: 'Signal1D' object has no attribute 'convolve'"
     ]
    }
   ],
   "source": [
    "EELS_smooth = smooth(EELS, eBin, 0.02) #smoothing of data"
   ]
  },
  {
   "cell_type": "code",
   "execution_count": null,
   "metadata": {},
   "outputs": [],
   "source": []
  }
 ],
 "metadata": {
  "kernelspec": {
   "display_name": "Python 3",
   "language": "python",
   "name": "python3"
  },
  "language_info": {
   "codemirror_mode": {
    "name": "ipython",
    "version": 3
   },
   "file_extension": ".py",
   "mimetype": "text/x-python",
   "name": "python",
   "nbconvert_exporter": "python",
   "pygments_lexer": "ipython3",
   "version": "3.6.2"
  }
 },
 "nbformat": 4,
 "nbformat_minor": 2
}
