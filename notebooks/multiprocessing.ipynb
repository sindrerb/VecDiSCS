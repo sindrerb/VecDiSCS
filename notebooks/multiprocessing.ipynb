{
 "cells": [
  {
   "cell_type": "code",
   "execution_count": 1,
   "metadata": {},
   "outputs": [],
   "source": [
    "from multiprocessing import Pool\n",
    "import numpy as np"
   ]
  },
  {
   "cell_type": "code",
   "execution_count": 2,
   "metadata": {},
   "outputs": [],
   "source": [
    "def test(transition):\n",
    "    i,f, initial, final = transition\n",
    "    print(\"Transition from {} to {}\".format(i,f))\n",
    "    return np.random.randint(0,9,4)"
   ]
  },
  {
   "cell_type": "code",
   "execution_count": 3,
   "metadata": {},
   "outputs": [],
   "source": [
    "bands = [0,1,2,3,4,5,6,7,8]\n",
    "\n",
    "transitions = []\n",
    "for i, initial in enumerate(bands):\n",
    "    for f, final in enumerate(bands[(i+1):]):\n",
    "        f += i+1\n",
    "        transitions.append((i,f, initial, final))"
   ]
  },
  {
   "cell_type": "code",
   "execution_count": 4,
   "metadata": {},
   "outputs": [
    {
     "name": "stdout",
     "output_type": "stream",
     "text": [
      "Transition from 0 to 1\n",
      "Transition from 0 to 2\n",
      "Transition from 0 to 6\n",
      "Transition from 0 to 4\n",
      "Transition from 0 to 5\n",
      "Transition from 1 to 3\n",
      "Transition from 1 to 2\n",
      "Transition from 1 to 5\n",
      "Transition from 2 to 5\n",
      "Transition from 2 to 3\n",
      "Transition from 2 to 6\n",
      "Transition from 3 to 4\n",
      "Transition from 3 to 7\n",
      "Transition from 1 to 4\n",
      "Transition from 3 to 8\n",
      "Transition from 4 to 7\n",
      "Transition from 4 to 5\n",
      "Transition from 2 to 8\n",
      "Transition from 5 to 6\n",
      "Transition from 0 to 7\n",
      "Transition from 2 to 7\n",
      "Transition from 5 to 7\n",
      "Transition from 4 to 8\n",
      "Transition from 7 to 8\n",
      "Transition from 4 to 6\n",
      "Transition from 5 to 8\n",
      "Transition from 6 to 8\n",
      "Transition from 3 to 6\n",
      "Transition from 3 to 5\n",
      "Transition from 0 to 8\n",
      "Transition from 6 to 7\n",
      "Transition from 1 to 8\n",
      "Transition from 2 to 4\n",
      "Transition from 0 to 3\n",
      "Transition from 1 to 7\n",
      "Transition from 1 to 6\n"
     ]
    },
    {
     "data": {
      "text/plain": [
       "array([231, 118, 151, 207])"
      ]
     },
     "execution_count": 4,
     "metadata": {},
     "output_type": "execute_result"
    }
   ],
   "source": [
    "p = Pool(processes=20)\n",
    "data = p.map(test, transitions)\n",
    "p.close()\n",
    "\n",
    "total = data[0]\n",
    "for array in data[1:]:\n",
    "    total += array\n",
    "total"
   ]
  },
  {
   "cell_type": "code",
   "execution_count": 5,
   "metadata": {},
   "outputs": [
    {
     "name": "stdout",
     "output_type": "stream",
     "text": [
      "[array([231, 118, 151, 207]), array([6, 4, 4, 7]), array([6, 4, 4, 7]), array([6, 4, 4, 7]), array([6, 4, 4, 7]), array([6, 4, 4, 7]), array([6, 4, 4, 7]), array([6, 4, 4, 7]), array([8, 2, 7, 3]), array([6, 4, 4, 7]), array([6, 4, 4, 7]), array([8, 2, 7, 3]), array([6, 4, 4, 7]), array([6, 4, 4, 7]), array([6, 4, 4, 7]), array([6, 4, 4, 7]), array([6, 4, 4, 7]), array([7, 2, 3, 8]), array([6, 4, 4, 7]), array([6, 4, 4, 7]), array([5, 6, 0, 1]), array([6, 4, 4, 7]), array([6, 4, 4, 7]), array([8, 2, 7, 3]), array([8, 2, 7, 3]), array([8, 2, 7, 3]), array([7, 2, 3, 8]), array([7, 2, 3, 8]), array([8, 2, 7, 3]), array([8, 2, 7, 3]), array([8, 2, 7, 3]), array([7, 2, 3, 8]), array([5, 6, 0, 1]), array([6, 4, 4, 7]), array([2, 0, 0, 1]), array([7, 2, 3, 8])]\n"
     ]
    }
   ],
   "source": [
    "print(data[None:None])"
   ]
  },
  {
   "cell_type": "code",
   "execution_count": null,
   "metadata": {},
   "outputs": [],
   "source": []
  }
 ],
 "metadata": {
  "kernelspec": {
   "display_name": "Python 3",
   "language": "python",
   "name": "python3"
  },
  "language_info": {
   "codemirror_mode": {
    "name": "ipython",
    "version": 3
   },
   "file_extension": ".py",
   "mimetype": "text/x-python",
   "name": "python",
   "nbconvert_exporter": "python",
   "pygments_lexer": "ipython3",
   "version": "3.6.3"
  }
 },
 "nbformat": 4,
 "nbformat_minor": 2
}
