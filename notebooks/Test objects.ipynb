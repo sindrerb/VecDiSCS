{
 "cells": [
  {
   "cell_type": "code",
   "execution_count": 1,
   "metadata": {},
   "outputs": [],
   "source": [
    "%matplotlib nbagg"
   ]
  },
  {
   "cell_type": "code",
   "execution_count": 2,
   "metadata": {
    "scrolled": true
   },
   "outputs": [
    {
     "name": "stderr",
     "output_type": "stream",
     "text": [
      "WARNING:hyperspy.api:The traitsui GUI elements are not available, probably because the hyperspy_gui_traitui package is not installed.\n"
     ]
    }
   ],
   "source": [
    "import hyperspy.api as hs\n",
    "import EELS.EELS as eels\n",
    "import numpy as np\n",
    "import matplotlib.pyplot as plt\n",
    "from scipy.signal import convolve"
   ]
  },
  {
   "cell_type": "code",
   "execution_count": 3,
   "metadata": {},
   "outputs": [
    {
     "data": {
      "text/plain": [
       "[<EELS.EELS.Atom at 0x7fa07d01c828>,\n",
       " <EELS.EELS.Atom at 0x7fa07d01c860>,\n",
       " <EELS.EELS.Atom at 0x7fa07d01c898>,\n",
       " <EELS.EELS.Atom at 0x7fa07d01c8d0>]"
      ]
     },
     "execution_count": 3,
     "metadata": {},
     "output_type": "execute_result"
    }
   ],
   "source": [
    "positions = [[0.3333333333333357,  0.6666666666666643,  0.9996814330926364],\n",
    "             [0.6666666666666643,  0.3333333333333357,  0.4996814330926362],\n",
    "             [0.3333333333333357,  0.6666666666666643,  0.3787615522102606],\n",
    "             [0.6666666666666643,  0.3333333333333357,  0.8787615522102604]]\n",
    "\n",
    "numbers = [8, 8, 30, 30]\n",
    "\n",
    "atoms = []\n",
    "for i, position in enumerate(positions):\n",
    "    atoms.append(eels.Atom(numbers[i],position))\n",
    "atoms"
   ]
  },
  {
   "cell_type": "code",
   "execution_count": 4,
   "metadata": {},
   "outputs": [],
   "source": [
    "lattice = np.array([[ 3.2871687359128612, 0.0000000000000000, 0.0000000000000000],\n",
    "                    [-1.6435843679564306, 2.8467716318265182, 0.0000000000000000],\n",
    "                    [ 0.0000000000000000, 0.0000000000000000, 5.3045771064003047]])\n",
    "\n",
    "cell = eels.Cell(lattice = lattice,\n",
    "                atoms=atoms)\n"
   ]
  },
  {
   "cell_type": "code",
   "execution_count": 5,
   "metadata": {
    "scrolled": false
   },
   "outputs": [
    {
     "name": "stdout",
     "output_type": "stream",
     "text": [
      "[63 73 39]\n",
      "[[ 1.91142768  1.10356328 -0.        ]\n",
      " [ 0.          2.20712657  0.        ]\n",
      " [ 0.         -0.          1.18448374]]\n"
     ]
    },
    {
     "data": {
      "text/plain": [
       "'P6_3mc (186)'"
      ]
     },
     "execution_count": 5,
     "metadata": {},
     "output_type": "execute_result"
    }
   ],
   "source": [
    "model = eels.ModelSystem(cell=cell)\n",
    "\n",
    "\n",
    "model.meshgrid(pointDensity=np.array([41, 41, 41]))\n",
    "\n",
    "model.addParabolicBand(energy_offset=0.0, effective_mass=np.array([-2.45,  -2.45, -2.45]), k_center=np.array([0, 0, 0]))\n",
    "model.addParabolicBand(energy_offset=3.3, effective_mass=np.array([ 0.29,  0.29,  0.25]), k_center=np.array([0, 0, 0]))\n",
    "\n",
    "energyBins = np.linspace(3,5,100)\n",
    "\n",
    "print(model.diffractionGrid()[1])\n",
    "\n",
    "print(model.cell.brillouinZone)\n",
    "model.spaceGroup()"
   ]
  },
  {
   "cell_type": "code",
   "execution_count": 6,
   "metadata": {},
   "outputs": [
    {
     "name": "stdout",
     "output_type": "stream",
     "text": [
      "CCD:\n",
      "[ 1.91142768  2.20712657  1.18448374] [63 73 39]\n"
     ]
    },
    {
     "name": "stderr",
     "output_type": "stream",
     "text": [
      "WARNING:hyperspy.signal:<Signal1D, title: Unnamed_simulation, dimensions: (39, 73, 63|100)> data is replaced by its optimized copy\n",
      "ERROR:hyperspy.io_plugins.hspy:The hdf5 writer could not write the following information in the file: 0 : <EELS.EELS.Band object at 0x7fa078ef6198>\n",
      "Traceback (most recent call last):\n",
      "  File \"/home/sindrerb/anaconda3/envs/hySpy2/lib/python3.6/site-packages/hyperspy/io_plugins/hspy.py\", line 477, in dict2hdfgroup\n",
      "    group.attrs[key] = value\n",
      "  File \"h5py/_objects.pyx\", line 54, in h5py._objects.with_phil.wrapper\n",
      "  File \"h5py/_objects.pyx\", line 55, in h5py._objects.with_phil.wrapper\n",
      "  File \"/home/sindrerb/anaconda3/envs/hySpy2/lib/python3.6/site-packages/h5py/_hl/attrs.py\", line 95, in __setitem__\n",
      "    self.create(name, data=value, dtype=base.guess_dtype(value))\n",
      "  File \"/home/sindrerb/anaconda3/envs/hySpy2/lib/python3.6/site-packages/h5py/_hl/attrs.py\", line 171, in create\n",
      "    htype = h5t.py_create(original_dtype, logical=True)\n",
      "  File \"h5py/h5t.pyx\", line 1530, in h5py.h5t.py_create\n",
      "  File \"h5py/h5t.pyx\", line 1552, in h5py.h5t.py_create\n",
      "  File \"h5py/h5t.pyx\", line 1607, in h5py.h5t.py_create\n",
      "TypeError: Object dtype dtype('O') has no native HDF5 equivalent\n",
      "ERROR:hyperspy.io_plugins.hspy:The hdf5 writer could not write the following information in the file: 1 : <EELS.EELS.Band object at 0x7fa078ef6208>\n",
      "Traceback (most recent call last):\n",
      "  File \"/home/sindrerb/anaconda3/envs/hySpy2/lib/python3.6/site-packages/hyperspy/io_plugins/hspy.py\", line 477, in dict2hdfgroup\n",
      "    group.attrs[key] = value\n",
      "  File \"h5py/_objects.pyx\", line 54, in h5py._objects.with_phil.wrapper\n",
      "  File \"h5py/_objects.pyx\", line 55, in h5py._objects.with_phil.wrapper\n",
      "  File \"/home/sindrerb/anaconda3/envs/hySpy2/lib/python3.6/site-packages/h5py/_hl/attrs.py\", line 95, in __setitem__\n",
      "    self.create(name, data=value, dtype=base.guess_dtype(value))\n",
      "  File \"/home/sindrerb/anaconda3/envs/hySpy2/lib/python3.6/site-packages/h5py/_hl/attrs.py\", line 171, in create\n",
      "    htype = h5t.py_create(original_dtype, logical=True)\n",
      "  File \"h5py/h5t.pyx\", line 1530, in h5py.h5t.py_create\n",
      "  File \"h5py/h5t.pyx\", line 1552, in h5py.h5t.py_create\n",
      "  File \"h5py/h5t.pyx\", line 1607, in h5py.h5t.py_create\n",
      "TypeError: Object dtype dtype('O') has no native HDF5 equivalent\n"
     ]
    }
   ],
   "source": [
    "s = model.calculateScatteringCrossSection(energyBins, fermiEnergy=1.65, temperature=0)\n",
    "\n",
    "s.metadata['General']['authors'] = \"Sindre R. Bilden\"\n",
    "s.metadata['General']['name'] = \"Reference\"\n",
    "s.metadata['General']['notes'] = \"ZnO model\"\n",
    "s.metadata['General']['title'] = \"Reference\"\n",
    "\n",
    "\n",
    "s.save('../Results/Cecilie/ZnO/41/T0F%.2f.hspy' %(s.metadata['Sample']['system']['fermiEnergy']))"
   ]
  },
  {
   "cell_type": "code",
   "execution_count": 7,
   "metadata": {},
   "outputs": [
    {
     "name": "stdout",
     "output_type": "stream",
     "text": [
      "CCD:\n",
      "[ 1.91142768  2.20712657  1.18448374] [63 73 39]\n"
     ]
    },
    {
     "name": "stderr",
     "output_type": "stream",
     "text": [
      "WARNING:hyperspy.signal:<Signal1D, title: Unnamed_simulation, dimensions: (39, 73, 63|100)> data is replaced by its optimized copy\n",
      "ERROR:hyperspy.io_plugins.hspy:The hdf5 writer could not write the following information in the file: 0 : <EELS.EELS.Band object at 0x7fa0c4f4a160>\n",
      "Traceback (most recent call last):\n",
      "  File \"/home/sindrerb/anaconda3/envs/hySpy2/lib/python3.6/site-packages/hyperspy/io_plugins/hspy.py\", line 477, in dict2hdfgroup\n",
      "    group.attrs[key] = value\n",
      "  File \"h5py/_objects.pyx\", line 54, in h5py._objects.with_phil.wrapper\n",
      "  File \"h5py/_objects.pyx\", line 55, in h5py._objects.with_phil.wrapper\n",
      "  File \"/home/sindrerb/anaconda3/envs/hySpy2/lib/python3.6/site-packages/h5py/_hl/attrs.py\", line 95, in __setitem__\n",
      "    self.create(name, data=value, dtype=base.guess_dtype(value))\n",
      "  File \"/home/sindrerb/anaconda3/envs/hySpy2/lib/python3.6/site-packages/h5py/_hl/attrs.py\", line 171, in create\n",
      "    htype = h5t.py_create(original_dtype, logical=True)\n",
      "  File \"h5py/h5t.pyx\", line 1530, in h5py.h5t.py_create\n",
      "  File \"h5py/h5t.pyx\", line 1552, in h5py.h5t.py_create\n",
      "  File \"h5py/h5t.pyx\", line 1607, in h5py.h5t.py_create\n",
      "TypeError: Object dtype dtype('O') has no native HDF5 equivalent\n",
      "ERROR:hyperspy.io_plugins.hspy:The hdf5 writer could not write the following information in the file: 1 : <EELS.EELS.Band object at 0x7fa0c4f4a4a8>\n",
      "Traceback (most recent call last):\n",
      "  File \"/home/sindrerb/anaconda3/envs/hySpy2/lib/python3.6/site-packages/hyperspy/io_plugins/hspy.py\", line 477, in dict2hdfgroup\n",
      "    group.attrs[key] = value\n",
      "  File \"h5py/_objects.pyx\", line 54, in h5py._objects.with_phil.wrapper\n",
      "  File \"h5py/_objects.pyx\", line 55, in h5py._objects.with_phil.wrapper\n",
      "  File \"/home/sindrerb/anaconda3/envs/hySpy2/lib/python3.6/site-packages/h5py/_hl/attrs.py\", line 95, in __setitem__\n",
      "    self.create(name, data=value, dtype=base.guess_dtype(value))\n",
      "  File \"/home/sindrerb/anaconda3/envs/hySpy2/lib/python3.6/site-packages/h5py/_hl/attrs.py\", line 171, in create\n",
      "    htype = h5t.py_create(original_dtype, logical=True)\n",
      "  File \"h5py/h5t.pyx\", line 1530, in h5py.h5t.py_create\n",
      "  File \"h5py/h5t.pyx\", line 1552, in h5py.h5t.py_create\n",
      "  File \"h5py/h5t.pyx\", line 1607, in h5py.h5t.py_create\n",
      "TypeError: Object dtype dtype('O') has no native HDF5 equivalent\n"
     ]
    }
   ],
   "source": [
    "s = model.calculateScatteringCrossSection(energyBins, fermiEnergy=3.6, temperature=0)\n",
    "\n",
    "s.metadata['General']['authors'] = \"Sindre R. Bilden\"\n",
    "s.metadata['General']['name'] = \"T=0K Ef=3.6eV\"\n",
    "s.metadata['General']['notes'] = \"ZnO model\"\n",
    "s.metadata['General']['title'] = \"T=0K Ef=3.6eV\"\n",
    "s.save('../Results/Cecilie/ZnO/41/T0F%.2f.hspy' %(s.metadata['Sample']['system']['fermiEnergy']))"
   ]
  },
  {
   "cell_type": "code",
   "execution_count": 8,
   "metadata": {},
   "outputs": [
    {
     "name": "stdout",
     "output_type": "stream",
     "text": [
      "CCD:\n",
      "[ 1.91142768  2.20712657  1.18448374] [63 73 39]\n"
     ]
    },
    {
     "name": "stderr",
     "output_type": "stream",
     "text": [
      "WARNING:hyperspy.signal:<Signal1D, title: Unnamed_simulation, dimensions: (39, 73, 63|100)> data is replaced by its optimized copy\n",
      "ERROR:hyperspy.io_plugins.hspy:The hdf5 writer could not write the following information in the file: 0 : <EELS.EELS.Band object at 0x7fa07d03b438>\n",
      "Traceback (most recent call last):\n",
      "  File \"/home/sindrerb/anaconda3/envs/hySpy2/lib/python3.6/site-packages/hyperspy/io_plugins/hspy.py\", line 477, in dict2hdfgroup\n",
      "    group.attrs[key] = value\n",
      "  File \"h5py/_objects.pyx\", line 54, in h5py._objects.with_phil.wrapper\n",
      "  File \"h5py/_objects.pyx\", line 55, in h5py._objects.with_phil.wrapper\n",
      "  File \"/home/sindrerb/anaconda3/envs/hySpy2/lib/python3.6/site-packages/h5py/_hl/attrs.py\", line 95, in __setitem__\n",
      "    self.create(name, data=value, dtype=base.guess_dtype(value))\n",
      "  File \"/home/sindrerb/anaconda3/envs/hySpy2/lib/python3.6/site-packages/h5py/_hl/attrs.py\", line 171, in create\n",
      "    htype = h5t.py_create(original_dtype, logical=True)\n",
      "  File \"h5py/h5t.pyx\", line 1530, in h5py.h5t.py_create\n",
      "  File \"h5py/h5t.pyx\", line 1552, in h5py.h5t.py_create\n",
      "  File \"h5py/h5t.pyx\", line 1607, in h5py.h5t.py_create\n",
      "TypeError: Object dtype dtype('O') has no native HDF5 equivalent\n",
      "ERROR:hyperspy.io_plugins.hspy:The hdf5 writer could not write the following information in the file: 1 : <EELS.EELS.Band object at 0x7fa07d03b4a8>\n",
      "Traceback (most recent call last):\n",
      "  File \"/home/sindrerb/anaconda3/envs/hySpy2/lib/python3.6/site-packages/hyperspy/io_plugins/hspy.py\", line 477, in dict2hdfgroup\n",
      "    group.attrs[key] = value\n",
      "  File \"h5py/_objects.pyx\", line 54, in h5py._objects.with_phil.wrapper\n",
      "  File \"h5py/_objects.pyx\", line 55, in h5py._objects.with_phil.wrapper\n",
      "  File \"/home/sindrerb/anaconda3/envs/hySpy2/lib/python3.6/site-packages/h5py/_hl/attrs.py\", line 95, in __setitem__\n",
      "    self.create(name, data=value, dtype=base.guess_dtype(value))\n",
      "  File \"/home/sindrerb/anaconda3/envs/hySpy2/lib/python3.6/site-packages/h5py/_hl/attrs.py\", line 171, in create\n",
      "    htype = h5t.py_create(original_dtype, logical=True)\n",
      "  File \"h5py/h5t.pyx\", line 1530, in h5py.h5t.py_create\n",
      "  File \"h5py/h5t.pyx\", line 1552, in h5py.h5t.py_create\n",
      "  File \"h5py/h5t.pyx\", line 1607, in h5py.h5t.py_create\n",
      "TypeError: Object dtype dtype('O') has no native HDF5 equivalent\n"
     ]
    }
   ],
   "source": [
    "s = model.calculateScatteringCrossSection(energyBins, fermiEnergy=3.6, temperature=300)\n",
    "\n",
    "s.metadata['General']['authors'] = \"Sindre R. Bilden\"\n",
    "s.metadata['General']['name'] = \"T=300K Ef=3.6eV\"\n",
    "s.metadata['General']['notes'] = \"ZnO model\"\n",
    "s.metadata['General']['title'] = \"T=300K Ef=3.6eV\"\n",
    "s.save('../Results/Cecilie/ZnO/41/T300F%.2f.hspy' %(s.metadata['Sample']['system']['fermiEnergy']))"
   ]
  },
  {
   "cell_type": "code",
   "execution_count": null,
   "metadata": {},
   "outputs": [],
   "source": []
  }
 ],
 "metadata": {
  "kernelspec": {
   "display_name": "Python 3",
   "language": "python",
   "name": "python3"
  },
  "language_info": {
   "codemirror_mode": {
    "name": "ipython",
    "version": 3
   },
   "file_extension": ".py",
   "mimetype": "text/x-python",
   "name": "python",
   "nbconvert_exporter": "python",
   "pygments_lexer": "ipython3",
   "version": "3.6.3"
  }
 },
 "nbformat": 4,
 "nbformat_minor": 2
}
