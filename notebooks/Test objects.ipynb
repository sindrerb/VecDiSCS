{
 "cells": [
  {
   "cell_type": "code",
   "execution_count": 1,
   "metadata": {},
   "outputs": [],
   "source": [
    "%matplotlib nbagg"
   ]
  },
  {
   "cell_type": "code",
   "execution_count": 3,
   "metadata": {
    "scrolled": true
   },
   "outputs": [],
   "source": [
    "import hyperspy.api as hs\n",
    "from pyeels import eels\n",
    "import numpy as np\n",
    "import matplotlib.pyplot as plt\n",
    "from scipy.signal import convolve"
   ]
  },
  {
   "cell_type": "code",
   "execution_count": 4,
   "metadata": {},
   "outputs": [
    {
     "data": {
      "text/plain": [
       "[<pyeels.eels.Atom at 0x7fa60307a240>,\n",
       " <pyeels.eels.Atom at 0x7fa60307a2b0>,\n",
       " <pyeels.eels.Atom at 0x7fa60307a2e8>,\n",
       " <pyeels.eels.Atom at 0x7fa60307a320>]"
      ]
     },
     "execution_count": 4,
     "metadata": {},
     "output_type": "execute_result"
    }
   ],
   "source": [
    "positions = [[0.3333333333333357,  0.6666666666666643,  0.9996814330926364],\n",
    "             [0.6666666666666643,  0.3333333333333357,  0.4996814330926362],\n",
    "             [0.3333333333333357,  0.6666666666666643,  0.3787615522102606],\n",
    "             [0.6666666666666643,  0.3333333333333357,  0.8787615522102604]]\n",
    "\n",
    "numbers = [8, 8, 30, 30]\n",
    "\n",
    "atoms = []\n",
    "for i, position in enumerate(positions):\n",
    "    atoms.append(eels.Atom(numbers[i],position))\n",
    "atoms"
   ]
  },
  {
   "cell_type": "code",
   "execution_count": 5,
   "metadata": {},
   "outputs": [],
   "source": [
    "lattice = np.array([[ 3.2871687359128612, 0.0000000000000000, 0.0000000000000000],\n",
    "                    [-1.6435843679564306, 2.8467716318265182, 0.0000000000000000],\n",
    "                    [ 0.0000000000000000, 0.0000000000000000, 5.3045771064003047]])\n",
    "\n",
    "cell = eels.Cell(lattice = lattice,\n",
    "                atoms=atoms)\n"
   ]
  },
  {
   "cell_type": "code",
   "execution_count": null,
   "metadata": {
    "scrolled": false
   },
   "outputs": [],
   "source": [
    "model = eels.ModelSystem(cell=cell)\n",
    "\n",
    "\n",
    "model.meshgrid(pointDensity=np.array([41, 41, 41]))\n",
    "\n",
    "model.addParabolicBand(energy_offset=0.0, effective_mass=np.array([-2.45,  -2.45, -2.45]), k_center=np.array([0, 0, 0]))\n",
    "model.addParabolicBand(energy_offset=3.3, effective_mass=np.array([ 0.29,  0.29,  0.25]), k_center=np.array([0, 0, 0]))\n",
    "\n",
    "energyBins = np.linspace(3,5,100)\n",
    "\n",
    "print(model.diffractionGrid()[1])\n",
    "\n",
    "print(model.cell.brillouinZone)\n",
    "model.spaceGroup()"
   ]
  },
  {
   "cell_type": "code",
   "execution_count": null,
   "metadata": {},
   "outputs": [],
   "source": [
    "s = model.calculateScatteringCrossSection(energyBins, fermiEnergy=1.65, temperature=0)\n",
    "\n",
    "s.metadata['General']['authors'] = \"Sindre R. Bilden\"\n",
    "s.metadata['General']['name'] = \"Reference\"\n",
    "s.metadata['General']['notes'] = \"ZnO model\"\n",
    "s.metadata['General']['title'] = \"Reference\"\n",
    "\n",
    "\n",
    "s.save('../Results/Cecilie/ZnO/41/T0F%.2f.hspy' %(s.metadata['Sample']['system']['fermiEnergy']))"
   ]
  },
  {
   "cell_type": "code",
   "execution_count": null,
   "metadata": {},
   "outputs": [],
   "source": [
    "s = model.calculateScatteringCrossSection(energyBins, fermiEnergy=3.6, temperature=0)\n",
    "\n",
    "s.metadata['General']['authors'] = \"Sindre R. Bilden\"\n",
    "s.metadata['General']['name'] = \"T=0K Ef=3.6eV\"\n",
    "s.metadata['General']['notes'] = \"ZnO model\"\n",
    "s.metadata['General']['title'] = \"T=0K Ef=3.6eV\"\n",
    "s.save('../Results/Cecilie/ZnO/41/T0F%.2f.hspy' %(s.metadata['Sample']['system']['fermiEnergy']))"
   ]
  },
  {
   "cell_type": "code",
   "execution_count": null,
   "metadata": {},
   "outputs": [],
   "source": [
    "s = model.calculateScatteringCrossSection(energyBins, fermiEnergy=3.6, temperature=300)\n",
    "\n",
    "s.metadata['General']['authors'] = \"Sindre R. Bilden\"\n",
    "s.metadata['General']['name'] = \"T=300K Ef=3.6eV\"\n",
    "s.metadata['General']['notes'] = \"ZnO model\"\n",
    "s.metadata['General']['title'] = \"T=300K Ef=3.6eV\"\n",
    "s.save('../Results/Cecilie/ZnO/41/T300F%.2f.hspy' %(s.metadata['Sample']['system']['fermiEnergy']))"
   ]
  },
  {
   "cell_type": "code",
   "execution_count": null,
   "metadata": {},
   "outputs": [],
   "source": []
  }
 ],
 "metadata": {
  "kernelspec": {
   "display_name": "Python 3",
   "language": "python",
   "name": "python3"
  },
  "language_info": {
   "codemirror_mode": {
    "name": "ipython",
    "version": 3
   },
   "file_extension": ".py",
   "mimetype": "text/x-python",
   "name": "python",
   "nbconvert_exporter": "python",
   "pygments_lexer": "ipython3",
   "version": "3.6.3"
  }
 },
 "nbformat": 4,
 "nbformat_minor": 2
}
