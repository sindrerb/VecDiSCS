{
 "cells": [
  {
   "cell_type": "code",
   "execution_count": 13,
   "metadata": {},
   "outputs": [],
   "source": [
    "%matplotlib tk"
   ]
  },
  {
   "cell_type": "code",
   "execution_count": 14,
   "metadata": {
    "scrolled": true
   },
   "outputs": [],
   "source": [
    "import hyperspy.api as hs\n",
    "import EELS.EELS as eels\n",
    "import numpy as np\n",
    "import matplotlib.pyplot as plt"
   ]
  },
  {
   "cell_type": "code",
   "execution_count": 2,
   "metadata": {},
   "outputs": [
    {
     "data": {
      "text/plain": [
       "[<EELS.EELS.Atom at 0x7ffb804ad748>,\n",
       " <EELS.EELS.Atom at 0x7ffb804ad7b8>,\n",
       " <EELS.EELS.Atom at 0x7ffb804ad7f0>,\n",
       " <EELS.EELS.Atom at 0x7ffb804ad828>]"
      ]
     },
     "execution_count": 2,
     "metadata": {},
     "output_type": "execute_result"
    }
   ],
   "source": [
    "positions = [[0.3333333333333357,  0.6666666666666643,  0.9996814330926364],\n",
    "             [0.6666666666666643,  0.3333333333333357,  0.4996814330926362],\n",
    "             [0.3333333333333357,  0.6666666666666643,  0.3787615522102606],\n",
    "             [0.6666666666666643,  0.3333333333333357,  0.8787615522102604]]\n",
    "\n",
    "numbers = [30, 30, 8, 8]\n",
    "\n",
    "atoms = []\n",
    "for i, position in enumerate(positions):\n",
    "    atoms.append(eels.Atom(numbers[i],position))\n",
    "atoms"
   ]
  },
  {
   "cell_type": "code",
   "execution_count": 3,
   "metadata": {},
   "outputs": [],
   "source": [
    "cell = eels.Cell(lattice = np.array([\n",
    "                    [ 3.2871687359128612, 0.0000000000000000, 0.0000000000000000],\n",
    "                    [-1.6435843679564306, 2.8467716318265182, 0.0000000000000000],\n",
    "                    [ 0.0000000000000000, 0.0000000000000000, 5.3045771064003047]]),\n",
    "                atoms=atoms)"
   ]
  },
  {
   "cell_type": "code",
   "execution_count": 31,
   "metadata": {},
   "outputs": [
    {
     "name": "stderr",
     "output_type": "stream",
     "text": [
      "WARNING:hyperspy.signal:<Signal1D, title: Unnamed_simulation, dimensions: (24, 44, 38|100)> data is replaced by its optimized copy\n"
     ]
    }
   ],
   "source": [
    "model = eels.ModelSystem(cell=cell)\n",
    "model.spaceGroup()\n",
    "\n",
    "model.meshgrid(pointDensity=np.array([20,20,20]))\n",
    "\n",
    "model.addParabolicBand(energy_offset=0.0, effective_mass=np.array([-2.55, -2.55, -0.27]), k_center=np.array([0, 0, 0]))\n",
    "model.addParabolicBand(energy_offset=0.0, effective_mass=np.array([-2.45,  -2.45, -2.45]), k_center=np.array([0, 0, 0]))\n",
    "model.addParabolicBand(energy_offset=0.0, effective_mass=np.array([-0.34,  -0.34, -2.47]), k_center=np.array([0, 0, 0]))\n",
    "model.addParabolicBand(energy_offset=3.3, effective_mass=np.array([ 0.29,  0.29,  0.25]), k_center=np.array([0, 0, 0]))\n",
    "\n",
    "model.cell.brillouinZone\n",
    "\n",
    "model.diffractionGrid()[1]\n",
    "\n",
    "energyBins = np.linspace(2,5,100)\n",
    "\n",
    "A = model.calculateScatteringCrossSection(energyBins, fermiEnergy=1.65)"
   ]
  },
  {
   "cell_type": "code",
   "execution_count": 32,
   "metadata": {
    "scrolled": true
   },
   "outputs": [
    {
     "data": {
      "text/plain": [
       "6877641738.4226961"
      ]
     },
     "execution_count": 32,
     "metadata": {},
     "output_type": "execute_result"
    }
   ],
   "source": [
    "np.max(A.data)"
   ]
  },
  {
   "cell_type": "code",
   "execution_count": 33,
   "metadata": {},
   "outputs": [
    {
     "data": {
      "application/vnd.jupyter.widget-view+json": {
       "model_id": "c870bd2deb8d469a8fddc33733811ed9",
       "version_major": 2,
       "version_minor": 0
      },
      "text/html": [
       "<p>Failed to display Jupyter Widget of type <code>VBox</code>.</p>\n",
       "<p>\n",
       "  If you're reading this message in Jupyter Notebook or JupyterLab, it may mean\n",
       "  that the widgets JavaScript is still loading. If this message persists, it\n",
       "  likely means that the widgets JavaScript library is either not installed or\n",
       "  not enabled. See the <a href=\"https://ipywidgets.readthedocs.io/en/stable/user_install.html\">Jupyter\n",
       "  Widgets Documentation</a> for setup instructions.\n",
       "</p>\n",
       "<p>\n",
       "  If you're reading this message in another notebook frontend (for example, a static\n",
       "  rendering on GitHub or <a href=\"https://nbviewer.jupyter.org/\">NBViewer</a>),\n",
       "  it may mean that your frontend doesn't currently support widgets.\n",
       "</p>\n"
      ],
      "text/plain": [
       "VBox(children=(HBox(children=(Label(value='q_z', layout=Layout(width='15%')), IntSlider(value=0, description='index', max=23), BoundedFloatText(value=-0.5922418678388641, continuous_update=True, description='value', max=0.5428883788522922, min=-0.5922418678388641, step=0.04935348898657201), Label(value='AA-1', layout=Layout(width='5%')))), HBox(children=(Label(value='q_y', layout=Layout(width='15%')), IntSlider(value=0, description='index', max=43), BoundedFloatText(value=-1.103563284974185, continuous_update=True, description='value', max=1.0534013174753585, min=-1.103563284974185, step=0.05016196749882659), Label(value='AA-1', layout=Layout(width='5%')))), HBox(children=(Label(value='q_x', layout=Layout(width='15%')), IntSlider(value=0, description='index', max=37), BoundedFloatText(value=-0.9557138394714498, continuous_update=True, description='value', max=0.9054131110782156, min=-0.9557138394714498, step=0.050300728393234205), Label(value='AA-1', layout=Layout(width='5%')))), Checkbox(value=True, description='Continous update')))"
      ]
     },
     "metadata": {},
     "output_type": "display_data"
    },
    {
     "name": "stderr",
     "output_type": "stream",
     "text": [
      "/home/sindrerb/anaconda3/envs/hySpy2/lib/python3.6/site-packages/matplotlib/cbook/deprecation.py:106: MatplotlibDeprecationWarning: Adding an axes using the same arguments as a previous axes currently reuses the earlier instance.  In a future version, a new instance will always be created and returned.  Meanwhile, this warning can be suppressed, and the future behavior ensured, by passing a unique label to each axes instance.\n",
      "  warnings.warn(message, mplDeprecation, stacklevel=1)\n",
      "/home/sindrerb/anaconda3/envs/hySpy2/lib/python3.6/site-packages/matplotlib/axes/_base.py:3239: UserWarning: Attempting to set identical bottom==top results\n",
      "in singular transformations; automatically expanding.\n",
      "bottom=0.0, top=0.0\n",
      "  'bottom=%s, top=%s') % (bottom, top))\n"
     ]
    }
   ],
   "source": [
    "A.plot()"
   ]
  },
  {
   "cell_type": "code",
   "execution_count": null,
   "metadata": {},
   "outputs": [],
   "source": []
  }
 ],
 "metadata": {
  "kernelspec": {
   "display_name": "Python 3",
   "language": "python",
   "name": "python3"
  },
  "language_info": {
   "codemirror_mode": {
    "name": "ipython",
    "version": 3
   },
   "file_extension": ".py",
   "mimetype": "text/x-python",
   "name": "python",
   "nbconvert_exporter": "python",
   "pygments_lexer": "ipython3",
   "version": "3.6.3"
  }
 },
 "nbformat": 4,
 "nbformat_minor": 2
}
