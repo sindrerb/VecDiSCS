{
 "cells": [
  {
   "cell_type": "code",
   "execution_count": 1,
   "metadata": {},
   "outputs": [
    {
     "name": "stderr",
     "output_type": "stream",
     "text": [
      "WARNING:hyperspy.api:The ipywidgets GUI elements are not available, probably because the hyperspy_gui_ipywidgets package is not installed.\n",
      "WARNING:hyperspy_gui_traitsui:The module://ipykernel.pylab.backend_inline matplotlib backend is not supported by the installed traitsui version and the ETS toolkit has been set to null. To set the ETS toolkit independently from the matplotlib backend, set it before importing matplotlib.\n",
      "WARNING:hyperspy_gui_traitsui:The traitsui GUI elements are not available.\n"
     ]
    }
   ],
   "source": [
    "import numpy  as np\n",
    "import spglib as spg\n",
    "import matplotlib.pyplot as plt\n",
    "import hyperspy.api as hs\n",
    "from EELS import system, spectrum\n",
    "from matplotlib import colors\n",
    "from scipy import signal\n",
    "\n",
    "folder = \"./\""
   ]
  },
  {
   "cell_type": "markdown",
   "metadata": {},
   "source": [
    "# Define cells and symmetry\n",
    "For parabolic bands, use a cubic symmetry"
   ]
  },
  {
   "cell_type": "code",
   "execution_count": 2,
   "metadata": {},
   "outputs": [
    {
     "name": "stdout",
     "output_type": "stream",
     "text": [
      "P6_3mc (186)\n"
     ]
    }
   ],
   "source": [
    "lattice = np.array([[ 3.2871687359128612, 0.0000000000000000, 0.0000000000000000],\n",
    "                    [-1.6435843679564306, 2.8467716318265182, 0.0000000000000000],\n",
    "                    [ 0.0000000000000000, 0.0000000000000000, 5.3045771064003047]])\n",
    "\n",
    "positions = [[0.3333333333333357,  0.6666666666666643,  0.9996814330926364],\n",
    "             [0.6666666666666643,  0.3333333333333357,  0.4996814330926362],\n",
    "             [0.3333333333333357,  0.6666666666666643,  0.3787615522102606],\n",
    "             [0.6666666666666643,  0.3333333333333357,  0.8787615522102604]]\n",
    "\n",
    "numbers = [30, 30, 8, 8]\n",
    "\n",
    "cell= (lattice, positions, numbers)\n",
    "sym = spg.get_symmetry(cell, symprec=1e-5)\n",
    "print(spg.get_spacegroup(cell, symprec=1e-5))"
   ]
  },
  {
   "cell_type": "code",
   "execution_count": 3,
   "metadata": {},
   "outputs": [],
   "source": [
    "mesh = np.array([51, 51, 51]) # use odd numbers"
   ]
  },
  {
   "cell_type": "code",
   "execution_count": 4,
   "metadata": {},
   "outputs": [
    {
     "data": {
      "text/plain": [
       "(132651, 3)"
      ]
     },
     "execution_count": 4,
     "metadata": {},
     "output_type": "execute_result"
    }
   ],
   "source": [
    "mapping, grid = spg.get_ir_reciprocal_mesh(mesh, cell, is_shift=[0, 0, 0])\n",
    "grid.shape"
   ]
  },
  {
   "cell_type": "code",
   "execution_count": 5,
   "metadata": {},
   "outputs": [],
   "source": [
    "occurences = np.bincount(mapping)[np.unique(mapping)]\n",
    "\n",
    "grid_ir = grid/(mesh-1)\n",
    "grid_ir = grid_ir[np.unique(mapping)]\n",
    "mapping_ir = mapping[np.unique(mapping)]\n",
    "\n",
    "\n",
    "#for i in range(len(mapping_ir)):\n",
    "#    print(\"occ = \",occurences[i], \"\\t irr = \",grid_ir[i])"
   ]
  },
  {
   "cell_type": "markdown",
   "metadata": {},
   "source": [
    "# Generate energies, waves and k-list"
   ]
  },
  {
   "cell_type": "code",
   "execution_count": 6,
   "metadata": {},
   "outputs": [],
   "source": [
    "def gauss(sigma, eRange):\n",
    "    dE = eRange[1]-eRange[0]\n",
    "    gx = np.arange(-3*sigma,3*sigma, dE)\n",
    "    gaussian = np.exp(-0.5*(gx/sigma)**2)\n",
    "    gaussian = gaussian/np.sum(gaussian)\n",
    "    \n",
    "    gauss =np.zeros((len(gaussian),1,1,1))\n",
    "    gauss[:,0,0,0] = gaussian\n",
    "    return gauss\n",
    "\n",
    "def smooth(hist, eRange, sigma):\n",
    "    gaussian = gauss(sigma, eRange)\n",
    "    \n",
    "    crop_front = len(gaussian)//2\n",
    "    if len(gaussian)%2 == 1:\n",
    "        crop_end = crop_front\n",
    "    else:\n",
    "        crop_end = crop_front-1\n",
    "        \n",
    "    return signal.convolve(hist, gaussian)[crop_front:-crop_end]"
   ]
  },
  {
   "cell_type": "code",
   "execution_count": 7,
   "metadata": {},
   "outputs": [],
   "source": [
    "_hbar = 1973 #eV AA\n",
    "_me = .511e6 #eV\n",
    "\n",
    "def band(k_vec, E0, m, k_center):\n",
    "    band = E0+(_hbar**2/(2*_me))*((k_vec[:,0]-k_center[0])**2/m[0]\\\n",
    "               +(k_vec[:,1]-k_center[1])**2/m[1]\\\n",
    "               +(k_vec[:,2]-k_center[2])**2/m[2])\n",
    "    return band"
   ]
  },
  {
   "cell_type": "code",
   "execution_count": 8,
   "metadata": {},
   "outputs": [
    {
     "data": {
      "text/plain": [
       "0.027560727025649736"
      ]
     },
     "execution_count": 8,
     "metadata": {},
     "output_type": "execute_result"
    }
   ],
   "source": [
    "sigma = 0.0649/2.3548\n",
    "sigma"
   ]
  },
  {
   "cell_type": "code",
   "execution_count": 9,
   "metadata": {},
   "outputs": [],
   "source": [
    "wave = np.array([0, 1])\n",
    "band_gap = 3.3\n",
    "\n",
    "\n",
    "\n",
    "def runSeries(root, fermiEnergies):\n",
    "    \n",
    "    eBin = np.linspace(3,5,120)\n",
    "\n",
    "    \"\"\"\n",
    "    coordinates = [[  0.0,   0.0,   0.0], [  0.0,    0.0,   0.0], [  0.0,    0.0,   0.0], [  0.0,   0.0,   0.0]]\n",
    "    eff_masses  = [[-2.55, -2.55, -0.27], [-2.45,  -2.45, -2.45], [-0.34,  -0.34, -2.47], [ 0.29,  0.29,  0.25]]\n",
    "    energy_offset =  [0.0, 0.0, 0.0, band_gap]\n",
    "    \"\"\"\n",
    "    \n",
    "    coordinates = [[  0.0,   0.0,   0.0], [  0.0,   0.0,   0.0]]\n",
    "    eff_masses  = [[-0.34,  -0.34, -0.27], [ 0.29,  0.29,  0.25]]\n",
    "    energy_offset =  [0.0, band_gap]\n",
    "    \n",
    "    \n",
    "    \n",
    "    k_list = []\n",
    "    bands = []\n",
    "    for i in range(len(coordinates)):\n",
    "        bands.append((coordinates[i],eff_masses[i],energy_offset[i]))\n",
    "\n",
    "    k_arr = np.zeros((len(np.unique(mapping)),len(grid[0])))\n",
    "    e_arr = np.zeros((len(np.unique(mapping)),len(bands),))\n",
    "    w_arr = np.zeros((len(np.unique(mapping)),len(bands),len(wave)))\n",
    "\n",
    "    for i, map_id in enumerate(mapping[np.unique(mapping)]):\n",
    "        k_list.append((grid[mapping==map_id]/(mesh-1)).tolist())\n",
    "        k_arr[i] = grid[map_id]/(mesh-1)\n",
    "\n",
    "\n",
    "    for i, band_info in enumerate(bands):\n",
    "        e_arr[:,i] = band(k_arr, band_info[2], band_info[1], band_info[0])\n",
    "        w_arr[:,i] = np.outer(wave,np.ones(len(k_arr))).T\n",
    "\n",
    "\n",
    "    k = np.linspace(-0.5,0.5,100)\n",
    "    k = np.stack([k,np.zeros(len(k)),np.zeros(len(k))],axis=1)\n",
    "\n",
    "\n",
    "    \"\"\"plt.xlabel('k_x')\n",
    "    plt.ylabel('Energy')\n",
    "    old_band = 0\n",
    "    test = []\n",
    "    for i, band_info in enumerate(bands):\n",
    "        band_energies = band(k, band_info[2], band_info[1], band_info[0])\n",
    "        test.append(band_energies)\n",
    "        plt.plot(k[:,0],band_energies)\n",
    "        old_band = band_energies\n",
    "    plt.plot([-0.5,0.5],[fermiEnergy,fermiEnergy],'--')\n",
    "    plt.show()\"\"\"\n",
    "\n",
    "\n",
    "\n",
    "    folder = root\n",
    "    for fermiEnergy in fermiEnergies:\n",
    "        model = \"Parabolic\"\n",
    "        name = \"Scleife 4 bands fermi {}\".format(fermiEnergy)\n",
    "        title = \"Fermi {}\".format(fermiEnergy)\n",
    "        notes = \"Based on Schleife 2009, Bands: G7c, G7+v, G7v, G7-v\"\n",
    "        meta = spectrum.createMeta(name=name, title=title, authors=\"Sindre R. Bilden\", notes=notes, model=model, cell=lattice, fermi=fermiEnergy, coordinates=coordinates, effective_masses=eff_masses, energy_levels=energy_offset)\n",
    "\n",
    "\n",
    "        \n",
    "        EELS = spectrum.calculate_spectrum((mesh,k_list,e_arr,w_arr),eBin,fermiEnergy)\n",
    "\n",
    "        signal = spectrum.createSignal(data=EELS,eBin=eBin,mesh=mesh,metadata=meta)\n",
    "        signal_smooth = spectrum.createSignal(data=smooth(EELS, eBin, sigma),eBin=eBin,mesh=mesh,metadata=meta)\n",
    "\n",
    "\n",
    "        spectrum.saveHyperspy(signal, filename='../Results/%s/fermi_%.2f' %(folder,fermiEnergy-band_gap))\n",
    "        spectrum.saveHyperspy(signal_smooth, filename='../Results/%s/smoothed/fermi_%.2f' %(folder,fermiEnergy-band_gap))"
   ]
  },
  {
   "cell_type": "code",
   "execution_count": 11,
   "metadata": {
    "scrolled": true
   },
   "outputs": [
    {
     "name": "stderr",
     "output_type": "stream",
     "text": [
      "WARNING:hyperspy.signal:<Signal1D, title: Fermi 3.485, dimensions: (51, 51, 51|120)> data is replaced by its optimized copy\n",
      "WARNING:hyperspy.signal:<Signal1D, title: Fermi 3.485, dimensions: (51, 51, 51|120)> data is replaced by its optimized copy\n"
     ]
    }
   ],
   "source": [
    "fermi = [3.485]\n",
    "\n",
    "runSeries(\"Schleife2009/unreal_valence/51/\", fermi)"
   ]
  },
  {
   "cell_type": "code",
   "execution_count": null,
   "metadata": {},
   "outputs": [],
   "source": []
  },
  {
   "cell_type": "code",
   "execution_count": null,
   "metadata": {},
   "outputs": [],
   "source": []
  },
  {
   "cell_type": "code",
   "execution_count": null,
   "metadata": {},
   "outputs": [],
   "source": [
    "EELS_smooth = smooth(EELS, eBin, 0.02) #smoothing of data"
   ]
  },
  {
   "cell_type": "code",
   "execution_count": null,
   "metadata": {},
   "outputs": [],
   "source": []
  },
  {
   "cell_type": "code",
   "execution_count": null,
   "metadata": {},
   "outputs": [],
   "source": []
  }
 ],
 "metadata": {
  "kernelspec": {
   "display_name": "Python 3",
   "language": "python",
   "name": "python3"
  },
  "language_info": {
   "codemirror_mode": {
    "name": "ipython",
    "version": 3
   },
   "file_extension": ".py",
   "mimetype": "text/x-python",
   "name": "python",
   "nbconvert_exporter": "python",
   "pygments_lexer": "ipython3",
   "version": "3.6.2"
  }
 },
 "nbformat": 4,
 "nbformat_minor": 2
}
