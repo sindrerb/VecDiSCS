{
 "cells": [
  {
   "cell_type": "code",
   "execution_count": 14,
   "metadata": {},
   "outputs": [],
   "source": [
    "import numpy  as np\n",
    "import spglib as spg\n",
    "import matplotlib.pyplot as plt\n",
    "import hyperspy.api as hs\n",
    "from EELS import system, spectrum\n",
    "from matplotlib import colors\n",
    "from scipy import signal\n",
    "\n",
    "folder = \"./\""
   ]
  },
  {
   "cell_type": "markdown",
   "metadata": {},
   "source": [
    "# Define cells and symmetry\n",
    "For parabolic bands, use a cubic symmetry"
   ]
  },
  {
   "cell_type": "code",
   "execution_count": 19,
   "metadata": {},
   "outputs": [
    {
     "name": "stdout",
     "output_type": "stream",
     "text": [
      "Pm-3m (221)\n"
     ]
    }
   ],
   "source": [
    "lattice = np.array([[1.0, 0.0, 0.0],\n",
    "                    [0.0, 1.0, 0.0],\n",
    "                    [0.0, 0.0, 1.0]])\n",
    "\n",
    "positions = [[0.0, 0.0, 0.0]]\n",
    "\n",
    "numbers = [1, ]\n",
    "\n",
    "cell= (lattice, positions, numbers)\n",
    "sym = spg.get_symmetry(cell, symprec=1e-5)\n",
    "print(spg.get_spacegroup(cell, symprec=1e-5))"
   ]
  },
  {
   "cell_type": "code",
   "execution_count": 20,
   "metadata": {},
   "outputs": [],
   "source": [
    "mesh = np.array([51, 51, 51]) # use odd numbers"
   ]
  },
  {
   "cell_type": "code",
   "execution_count": 21,
   "metadata": {},
   "outputs": [
    {
     "data": {
      "text/plain": [
       "(132651, 3)"
      ]
     },
     "execution_count": 21,
     "metadata": {},
     "output_type": "execute_result"
    }
   ],
   "source": [
    "mapping, grid = spg.get_ir_reciprocal_mesh(mesh, cell, is_shift=[0, 0, 0])\n",
    "grid.shape"
   ]
  },
  {
   "cell_type": "code",
   "execution_count": 22,
   "metadata": {},
   "outputs": [],
   "source": [
    "occurences = np.bincount(mapping)[np.unique(mapping)]\n",
    "\n",
    "grid_ir = grid/(mesh-1)\n",
    "grid_ir = grid_ir[np.unique(mapping)]\n",
    "mapping_ir = mapping[np.unique(mapping)]\n",
    "\n",
    "\n",
    "#for i in range(len(mapping_ir)):\n",
    "#    print(\"occ = \",occurences[i], \"\\t irr = \",grid_ir[i])"
   ]
  },
  {
   "cell_type": "markdown",
   "metadata": {},
   "source": [
    "# Generate energies, waves and k-list"
   ]
  },
  {
   "cell_type": "code",
   "execution_count": 3,
   "metadata": {},
   "outputs": [],
   "source": [
    "def gauss(sigma, eRange):\n",
    "    dE = eRange[1]-eRange[0]\n",
    "    gx = np.arange(-3*sigma,3*sigma, dE)\n",
    "    gaussian = np.exp(-0.5*(gx/sigma)**2)\n",
    "    gaussian = gaussian/np.sum(gaussian)\n",
    "    \n",
    "    gauss =np.zeros((len(gaussian),1,1,1))\n",
    "    gauss[:,0,0,0] = gaussian\n",
    "    return gauss"
   ]
  },
  {
   "cell_type": "code",
   "execution_count": 2,
   "metadata": {},
   "outputs": [],
   "source": [
    "def smooth(hist, eRange, sigma):\n",
    "    gaussian = gauss(sigma, eRange)\n",
    "    \n",
    "    crop_front = len(gaussian)//2\n",
    "    if len(gaussian)%2 == 1:\n",
    "        crop_end = crop_front\n",
    "    else:\n",
    "        crop_end = crop_front-1\n",
    "        \n",
    "    return signal.convolve(hist, gaussian)[crop_front:-crop_end]"
   ]
  },
  {
   "cell_type": "code",
   "execution_count": 24,
   "metadata": {},
   "outputs": [],
   "source": [
    "def band(k_vec, E0, m, k_center):\n",
    "    band = E0+(k_vec[:,0]-k_center[0])**2/m[0]+(k_vec[:,1]-k_center[1])**2/m[1]+(k_vec[:,2]-k_center[2])**2/m[2]\n",
    "    return band"
   ]
  },
  {
   "cell_type": "code",
   "execution_count": 29,
   "metadata": {},
   "outputs": [],
   "source": [
    "wave = np.array([0, 1])\n",
    "\n",
    "fermiEnergy = 3.5\n",
    "\n",
    "k_list = []\n",
    "bands = [([ 0.0, 0.0, 0.0], [-0.1, -0.1, -0.1], 0.0),\n",
    "         ([ 0.0, 0.0, 0.0], [ 0.1,  0.1,  0.1], 3.3)] #direct\n",
    "#         ([ 0.5, 0.0, 0.0], [ 0.1,  0.1,  0.1], 3.3),\n",
    "#         ([-0.5, 0.0, 0.0], [ 0.1,  0.1,  0.1], 3.3)] #indirect\n",
    "\n",
    "k_arr = np.zeros((len(np.unique(mapping)),len(grid[0])))\n",
    "e_arr = np.zeros((len(np.unique(mapping)),len(bands),))\n",
    "w_arr = np.zeros((len(np.unique(mapping)),len(bands),len(wave)))\n",
    "\n",
    "for i, map_id in enumerate(mapping[np.unique(mapping)]):\n",
    "    k_list.append((grid[mapping==map_id]/(mesh-1)).tolist())\n",
    "    k_arr[i] = grid[map_id]/(mesh-1)\n",
    "\n",
    "\n",
    "for i, band_info in enumerate(bands):\n",
    "    e_arr[:,i] = band(k_arr, band_info[2], band_info[1], band_info[0])\n",
    "    w_arr[:,i] = np.outer(wave,np.ones(len(k_arr))).T\n"
   ]
  },
  {
   "cell_type": "code",
   "execution_count": 30,
   "metadata": {
    "scrolled": true
   },
   "outputs": [
    {
     "data": {
      "image/png": "[encoded data removed]",
      "text/plain": [
       "<matplotlib.figure.Figure at 0x7fa886505518>"
      ]
     },
     "metadata": {},
     "output_type": "display_data"
    }
   ],
   "source": [
    "k = np.linspace(-0.5,0.5,100)\n",
    "k = np.stack([k,np.zeros(len(k)),np.zeros(len(k))],axis=1)\n",
    "\n",
    "plt.xlabel('k_x')\n",
    "plt.ylabel('Energy')\n",
    "\n",
    "for i, band_info in enumerate(bands):\n",
    "    band_energies = band(k, band_info[2], band_info[1], band_info[0])\n",
    "    \n",
    "    plt.plot(k[:,0],band_energies)\n",
    "plt.plot([-0.5,0.5],[fermiEnergy,fermiEnergy],'--')\n",
    "plt.show()"
   ]
  },
  {
   "cell_type": "markdown",
   "metadata": {},
   "source": [
    "# Calculate histogram\n"
   ]
  },
  {
   "cell_type": "code",
   "execution_count": 36,
   "metadata": {},
   "outputs": [],
   "source": [
    "eBin = np.linspace(3,7,80)"
   ]
  },
  {
   "cell_type": "code",
   "execution_count": 32,
   "metadata": {},
   "outputs": [],
   "source": [
    "EELS = spectrum.calculate_spectrum((mesh,k_list,e_arr,w_arr),eBin,fermiEnergy)\n"
   ]
  },
  {
   "cell_type": "code",
   "execution_count": null,
   "metadata": {},
   "outputs": [
    {
     "name": "stdout",
     "output_type": "stream",
     "text": [
      "(3, 1, 1, 1)\n"
     ]
    }
   ],
   "source": [
    "EELS_smooth = smooth(EELS, eBin, 0.02) #smoothing of data"
   ]
  },
  {
   "cell_type": "code",
   "execution_count": null,
   "metadata": {},
   "outputs": [],
   "source": [
    "spectrum.saveHyperspy(filename=\"direct_fermi02\",data=EELS_smooth,eBin=eBin,mesh=mesh)"
   ]
  },
  {
   "cell_type": "code",
   "execution_count": null,
   "metadata": {},
   "outputs": [],
   "source": []
  }
 ],
 "metadata": {
  "kernelspec": {
   "display_name": "Python 3",
   "language": "python",
   "name": "python3"
  },
  "language_info": {
   "codemirror_mode": {
    "name": "ipython",
    "version": 3
   },
   "file_extension": ".py",
   "mimetype": "text/x-python",
   "name": "python",
   "nbconvert_exporter": "python",
   "pygments_lexer": "ipython3",
   "version": "3.6.2"
  }
 },
 "nbformat": 4,
 "nbformat_minor": 2
}
