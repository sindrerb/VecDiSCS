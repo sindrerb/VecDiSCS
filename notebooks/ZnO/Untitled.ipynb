{
 "cells": [
  {
   "cell_type": "code",
   "execution_count": 22,
   "metadata": {},
   "outputs": [],
   "source": [
    "import numpy as np\n",
    "import threading\n",
    "from queue import Queue\n",
    "import time\n",
    "import random"
   ]
  },
  {
   "cell_type": "code",
   "execution_count": 23,
   "metadata": {},
   "outputs": [],
   "source": [
    "class thread_object:\n",
    "    def __init__(self, job_id, signal):\n",
    "        \"\"\" Create instance of a thread object, helpes sorting data\n",
    "        \n",
    "        :type  job_id: int\n",
    "        :param job_id: the job ID assigned from threading\n",
    "        \n",
    "        :type  signal: ndarray\n",
    "        :param signal: the signal-array from code\n",
    "        \"\"\"\n",
    "        self.job_id = job_id\n",
    "        self.signal = signal\n",
    "    def __repr__(self):\n",
    "        return \"Job ID: {}\\n {}\\n\\n\".format(self.job_id, self.signal)"
   ]
  },
  {
   "cell_type": "code",
   "execution_count": 24,
   "metadata": {},
   "outputs": [],
   "source": [
    "common_list = []"
   ]
  },
  {
   "cell_type": "code",
   "execution_count": 25,
   "metadata": {},
   "outputs": [],
   "source": [
    "def job(worker):\n",
    "    time.sleep(random.randint(1,10)/10)\n",
    "    with write_lock:\n",
    "        common_list.append(thread_object(worker, np.random.randint(0,9,(1,4))))"
   ]
  },
  {
   "cell_type": "code",
   "execution_count": 26,
   "metadata": {},
   "outputs": [],
   "source": [
    "def threader():\n",
    "    while True:\n",
    "        worker = q.get()\n",
    "        job(worker)\n",
    "        q.task_done()\n",
    "    "
   ]
  },
  {
   "cell_type": "code",
   "execution_count": 27,
   "metadata": {},
   "outputs": [],
   "source": [
    "num_threads = 4\n",
    "num_workers = 5"
   ]
  },
  {
   "cell_type": "code",
   "execution_count": 28,
   "metadata": {},
   "outputs": [],
   "source": [
    "write_lock = threading.Lock()\n",
    "\n",
    "q = Queue()"
   ]
  },
  {
   "cell_type": "code",
   "execution_count": 29,
   "metadata": {},
   "outputs": [],
   "source": [
    "for thread_index in range(num_threads):\n",
    "    thread = threading.Thread(target = threader)\n",
    "    thread.daemon = True\n",
    "    thread.start()"
   ]
  },
  {
   "cell_type": "code",
   "execution_count": 30,
   "metadata": {},
   "outputs": [],
   "source": [
    "for worker in range(num_workers):\n",
    "    q.put(worker) #check if worker can be tuple (initial,final)\n",
    "q.join()\n"
   ]
  },
  {
   "cell_type": "code",
   "execution_count": 31,
   "metadata": {},
   "outputs": [
    {
     "data": {
      "text/plain": [
       "[Job ID: 1\n",
       "  [[5 6 8 7]]\n",
       " , Job ID: 2\n",
       "  [[2 7 8 7]]\n",
       " , Job ID: 3\n",
       "  [[7 0 8 2]]\n",
       " , Job ID: 4\n",
       "  [[2 7 7 1]]\n",
       " , Job ID: 0\n",
       "  [[4 6 4 5]]\n",
       " ]"
      ]
     },
     "execution_count": 31,
     "metadata": {},
     "output_type": "execute_result"
    }
   ],
   "source": [
    "common_list"
   ]
  },
  {
   "cell_type": "code",
   "execution_count": 32,
   "metadata": {},
   "outputs": [
    {
     "data": {
      "text/plain": [
       "[Job ID: 0\n",
       "  [[4 6 4 5]]\n",
       " , Job ID: 1\n",
       "  [[5 6 8 7]]\n",
       " , Job ID: 2\n",
       "  [[2 7 8 7]]\n",
       " , Job ID: 3\n",
       "  [[7 0 8 2]]\n",
       " , Job ID: 4\n",
       "  [[2 7 7 1]]\n",
       " ]"
      ]
     },
     "execution_count": 32,
     "metadata": {},
     "output_type": "execute_result"
    }
   ],
   "source": [
    "sorted(common_list, key=lambda thread_object: thread_object.job_id)"
   ]
  },
  {
   "cell_type": "code",
   "execution_count": null,
   "metadata": {},
   "outputs": [],
   "source": []
  }
 ],
 "metadata": {
  "kernelspec": {
   "display_name": "Python 3",
   "language": "python",
   "name": "python3"
  },
  "language_info": {
   "codemirror_mode": {
    "name": "ipython",
    "version": 3
   },
   "file_extension": ".py",
   "mimetype": "text/x-python",
   "name": "python",
   "nbconvert_exporter": "python",
   "pygments_lexer": "ipython3",
   "version": "3.6.3"
  }
 },
 "nbformat": 4,
 "nbformat_minor": 2
}
