{
 "cells": [
  {
   "cell_type": "code",
   "execution_count": 1,
   "metadata": {},
   "outputs": [],
   "source": [
    "import seekpath as sp\n",
    "import numpy as np\n",
    "import spglib as spg\n",
    "import matplotlib.pyplot as plt"
   ]
  },
  {
   "cell_type": "code",
   "execution_count": 2,
   "metadata": {},
   "outputs": [],
   "source": [
    "lattice = np.array([\n",
    "    [ np.sqrt(3)/2, -0.5, 0.0],\n",
    "    [ 0.0, 1.0,  0.0],\n",
    "    [ 0.0, 0.0, 1.65]])*3.25\n",
    "\n",
    "positions = np.array([\n",
    "    [0.0, 0.0, 0.0],\n",
    "    [2/3, 1/3, 1/2],\n",
    "    [2/3, 1/3, 1/8],\n",
    "    [0.0, 0.0, 5/8]])\n",
    "\n",
    "numbers = [8, 8, 30, 30]"
   ]
  },
  {
   "cell_type": "code",
   "execution_count": 3,
   "metadata": {},
   "outputs": [
    {
     "data": {
      "text/plain": [
       "{'augmented_path': True,\n",
       " 'bravais_lattice': 'hP',\n",
       " 'bravais_lattice_extended': 'hP2',\n",
       " 'conv_lattice': array([[ 3.25      ,  0.        ,  0.        ],\n",
       "        [-1.625     ,  2.81458256,  0.        ],\n",
       "        [ 0.        ,  0.        ,  5.3625    ]]),\n",
       " 'conv_positions': array([[ 0.66666667,  0.33333333,  0.        ],\n",
       "        [ 0.33333333,  0.66666667,  0.5       ],\n",
       "        [ 0.33333333,  0.66666667,  0.125     ],\n",
       "        [ 0.66666667,  0.33333333,  0.625     ]]),\n",
       " 'conv_types': array([ 8,  8, 30, 30], dtype=int32),\n",
       " 'has_inversion_symmetry': False,\n",
       " 'inverse_primitive_transformation_matrix': array([[1, 0, 0],\n",
       "        [0, 1, 0],\n",
       "        [0, 0, 1]]),\n",
       " 'path': [('GAMMA', 'M'),\n",
       "  ('M', 'K'),\n",
       "  ('K', 'GAMMA'),\n",
       "  ('GAMMA', 'A'),\n",
       "  ('A', 'L'),\n",
       "  ('L', 'H'),\n",
       "  ('H', 'A'),\n",
       "  ('L', 'M'),\n",
       "  ('H', 'K'),\n",
       "  ('GAMMA', \"M'\"),\n",
       "  (\"M'\", \"K'\"),\n",
       "  (\"K'\", 'GAMMA'),\n",
       "  ('GAMMA', \"A'\"),\n",
       "  (\"A'\", \"L'\"),\n",
       "  (\"L'\", \"H'\"),\n",
       "  (\"H'\", \"A'\"),\n",
       "  (\"L'\", \"M'\"),\n",
       "  (\"H'\", \"K'\")],\n",
       " 'point_coords': {'A': [0.0, 0.0, 0.5],\n",
       "  \"A'\": [-0.0, -0.0, -0.5],\n",
       "  'GAMMA': [0.0, 0.0, 0.0],\n",
       "  'H': [0.3333333333333333, 0.3333333333333333, 0.5],\n",
       "  \"H'\": [-0.3333333333333333, -0.3333333333333333, -0.5],\n",
       "  'H_2': [0.3333333333333333, 0.3333333333333333, -0.5],\n",
       "  \"H_2'\": [-0.3333333333333333, -0.3333333333333333, 0.5],\n",
       "  'K': [0.3333333333333333, 0.3333333333333333, 0.0],\n",
       "  \"K'\": [-0.3333333333333333, -0.3333333333333333, -0.0],\n",
       "  'L': [0.5, 0.0, 0.5],\n",
       "  \"L'\": [-0.5, -0.0, -0.5],\n",
       "  'M': [0.5, 0.0, 0.0],\n",
       "  \"M'\": [-0.5, -0.0, -0.0]},\n",
       " 'primitive_lattice': array([[ 3.25      ,  0.        ,  0.        ],\n",
       "        [-1.625     ,  2.81458256,  0.        ],\n",
       "        [ 0.        ,  0.        ,  5.3625    ]]),\n",
       " 'primitive_positions': array([[ 0.66666667,  0.33333333,  0.        ],\n",
       "        [ 0.33333333,  0.66666667,  0.5       ],\n",
       "        [ 0.33333333,  0.66666667,  0.125     ],\n",
       "        [ 0.66666667,  0.33333333,  0.625     ]]),\n",
       " 'primitive_transformation_matrix': array([[1, 0, 0],\n",
       "        [0, 1, 0],\n",
       "        [0, 0, 1]]),\n",
       " 'primitive_types': array([ 8,  8, 30, 30], dtype=int32),\n",
       " 'reciprocal_primitive_lattice': [[1.9332877868244882,\n",
       "   1.1161842241441342,\n",
       "   0.0],\n",
       "  [0.0, 2.2323684482882684, 0.0],\n",
       "  [0.0, 0.0, 1.171689567772417]],\n",
       " 'spacegroup_international': 'P6_3mc',\n",
       " 'spacegroup_number': 186,\n",
       " 'volume_original_wrt_conv': 1.0,\n",
       " 'volume_original_wrt_prim': 1.0}"
      ]
     },
     "execution_count": 3,
     "metadata": {},
     "output_type": "execute_result"
    }
   ],
   "source": [
    "path = sp.get_path((lattice, positions, numbers), False, \"hpkot\", 1e-5)\n",
    "path"
   ]
  },
  {
   "cell_type": "code",
   "execution_count": 4,
   "metadata": {},
   "outputs": [],
   "source": [
    "points = path['point_coords']"
   ]
  },
  {
   "cell_type": "code",
   "execution_count": 35,
   "metadata": {},
   "outputs": [],
   "source": []
  },
  {
   "cell_type": "code",
   "execution_count": 29,
   "metadata": {},
   "outputs": [
    {
     "data": {
      "text/plain": [
       "{'augmented_path': True,\n",
       " 'explicit_kpoints_abs': array([[ 0.        ,  0.        ,  0.        ],\n",
       "        [ 0.96664389,  0.55809211,  0.        ],\n",
       "        [ 0.64442926,  1.11618422,  0.        ],\n",
       "        [ 0.        ,  0.        ,  0.        ],\n",
       "        [ 0.        ,  0.        ,  0.58584478],\n",
       "        [ 0.96664389,  0.55809211,  0.58584478],\n",
       "        [ 0.64442926,  1.11618422,  0.58584478],\n",
       "        [ 0.        ,  0.        ,  0.58584478],\n",
       "        [ 0.96664389,  0.55809211,  0.58584478],\n",
       "        [ 0.96664389,  0.55809211,  0.        ],\n",
       "        [ 0.64442926,  1.11618422,  0.58584478],\n",
       "        [ 0.64442926,  1.11618422,  0.        ],\n",
       "        [ 0.        ,  0.        ,  0.        ],\n",
       "        [-0.96664389, -0.55809211,  0.        ],\n",
       "        [-0.64442926, -1.11618422,  0.        ],\n",
       "        [ 0.        ,  0.        ,  0.        ],\n",
       "        [ 0.        ,  0.        , -0.58584478],\n",
       "        [-0.96664389, -0.55809211, -0.58584478],\n",
       "        [-0.64442926, -1.11618422, -0.58584478],\n",
       "        [ 0.        ,  0.        , -0.58584478],\n",
       "        [-0.96664389, -0.55809211, -0.58584478],\n",
       "        [-0.96664389, -0.55809211,  0.        ],\n",
       "        [-0.64442926, -1.11618422, -0.58584478],\n",
       "        [-0.64442926, -1.11618422,  0.        ]]),\n",
       " 'explicit_kpoints_labels': ['GAMMA',\n",
       "  'M',\n",
       "  'K',\n",
       "  'GAMMA',\n",
       "  'A',\n",
       "  'L',\n",
       "  'H',\n",
       "  'A',\n",
       "  'L',\n",
       "  'M',\n",
       "  'H',\n",
       "  'K',\n",
       "  'GAMMA',\n",
       "  \"M'\",\n",
       "  \"K'\",\n",
       "  'GAMMA',\n",
       "  \"A'\",\n",
       "  \"L'\",\n",
       "  \"H'\",\n",
       "  \"A'\",\n",
       "  \"L'\",\n",
       "  \"M'\",\n",
       "  \"H'\",\n",
       "  \"K'\"],\n",
       " 'explicit_kpoints_linearcoord': array([  0.        ,   1.11618422,   1.76061349,   3.04947201,\n",
       "          3.63531679,   4.75150102,   5.39593028,   6.68478881,\n",
       "          6.68478881,   7.27063359,   7.27063359,   7.85647837,\n",
       "          7.85647837,   8.9726626 ,   9.61709186,  10.90595038,\n",
       "         11.49179517,  12.60797939,  13.25240865,  14.54126718,\n",
       "         14.54126718,  15.12711196,  15.12711196,  15.71295675]),\n",
       " 'explicit_kpoints_rel': array([[ 0.        ,  0.        ,  0.        ],\n",
       "        [ 0.5       ,  0.        ,  0.        ],\n",
       "        [ 0.33333333,  0.33333333,  0.        ],\n",
       "        [ 0.        ,  0.        ,  0.        ],\n",
       "        [ 0.        ,  0.        ,  0.5       ],\n",
       "        [ 0.5       ,  0.        ,  0.5       ],\n",
       "        [ 0.33333333,  0.33333333,  0.5       ],\n",
       "        [ 0.        ,  0.        ,  0.5       ],\n",
       "        [ 0.5       ,  0.        ,  0.5       ],\n",
       "        [ 0.5       ,  0.        ,  0.        ],\n",
       "        [ 0.33333333,  0.33333333,  0.5       ],\n",
       "        [ 0.33333333,  0.33333333,  0.        ],\n",
       "        [ 0.        ,  0.        ,  0.        ],\n",
       "        [-0.5       ,  0.        ,  0.        ],\n",
       "        [-0.33333333, -0.33333333,  0.        ],\n",
       "        [ 0.        ,  0.        ,  0.        ],\n",
       "        [ 0.        ,  0.        , -0.5       ],\n",
       "        [-0.5       ,  0.        , -0.5       ],\n",
       "        [-0.33333333, -0.33333333, -0.5       ],\n",
       "        [ 0.        ,  0.        , -0.5       ],\n",
       "        [-0.5       ,  0.        , -0.5       ],\n",
       "        [-0.5       ,  0.        ,  0.        ],\n",
       "        [-0.33333333, -0.33333333, -0.5       ],\n",
       "        [-0.33333333, -0.33333333,  0.        ]]),\n",
       " 'has_inversion_symmetry': False,\n",
       " 'primitive_lattice': array([[ 3.25      ,  0.        ,  0.        ],\n",
       "        [-1.625     ,  2.81458256,  0.        ],\n",
       "        [ 0.        ,  0.        ,  5.3625    ]]),\n",
       " 'primitive_positions': array([[ 0.66666667,  0.33333333,  0.        ],\n",
       "        [ 0.33333333,  0.66666667,  0.5       ],\n",
       "        [ 0.33333333,  0.66666667,  0.125     ],\n",
       "        [ 0.66666667,  0.33333333,  0.625     ]]),\n",
       " 'primitive_types': array([ 8,  8, 30, 30], dtype=int32),\n",
       " 'reciprocal_primitive_lattice': [[1.9332877868244882,\n",
       "   1.1161842241441342,\n",
       "   0.0],\n",
       "  [0.0, 2.2323684482882684, 0.0],\n",
       "  [0.0, 0.0, 1.171689567772417]],\n",
       " 'segments': [(0, 2),\n",
       "  (1, 3),\n",
       "  (2, 4),\n",
       "  (3, 5),\n",
       "  (4, 6),\n",
       "  (5, 7),\n",
       "  (6, 8),\n",
       "  (8, 10),\n",
       "  (10, 12),\n",
       "  (12, 14),\n",
       "  (13, 15),\n",
       "  (14, 16),\n",
       "  (15, 17),\n",
       "  (16, 18),\n",
       "  (17, 19),\n",
       "  (18, 20),\n",
       "  (20, 22),\n",
       "  (22, 24)],\n",
       " 'volume_original_wrt_prim': 1.0}"
      ]
     },
     "execution_count": 29,
     "metadata": {},
     "output_type": "execute_result"
    }
   ],
   "source": [
    "path"
   ]
  },
  {
   "cell_type": "code",
   "execution_count": 30,
   "metadata": {},
   "outputs": [],
   "source": [
    "\n",
    "x = np.linspace(0,5,len(expath))"
   ]
  },
  {
   "cell_type": "code",
   "execution_count": 32,
   "metadata": {},
   "outputs": [
    {
     "data": {
      "text/plain": [
       "array([ 0.        ,  0.2173913 ,  0.43478261,  0.65217391,  0.86956522,\n",
       "        1.08695652,  1.30434783,  1.52173913,  1.73913043,  1.95652174,\n",
       "        2.17391304,  2.39130435,  2.60869565,  2.82608696,  3.04347826,\n",
       "        3.26086957,  3.47826087,  3.69565217,  3.91304348,  4.13043478,\n",
       "        4.34782609,  4.56521739,  4.7826087 ,  5.        ])"
      ]
     },
     "execution_count": 32,
     "metadata": {},
     "output_type": "execute_result"
    }
   ],
   "source": [
    "x"
   ]
  },
  {
   "cell_type": "code",
   "execution_count": 33,
   "metadata": {},
   "outputs": [
    {
     "data": {
      "text/plain": [
       "['GAMMA',\n",
       " 'M',\n",
       " 'K',\n",
       " 'GAMMA',\n",
       " 'A',\n",
       " 'L',\n",
       " 'H',\n",
       " 'A',\n",
       " 'L',\n",
       " 'M',\n",
       " 'H',\n",
       " 'K',\n",
       " 'GAMMA',\n",
       " \"M'\",\n",
       " \"K'\",\n",
       " 'GAMMA',\n",
       " \"A'\",\n",
       " \"L'\",\n",
       " \"H'\",\n",
       " \"A'\",\n",
       " \"L'\",\n",
       " \"M'\",\n",
       " \"H'\",\n",
       " \"K'\"]"
      ]
     },
     "execution_count": 33,
     "metadata": {},
     "output_type": "execute_result"
    }
   ],
   "source": [
    "labels"
   ]
  },
  {
   "cell_type": "code",
   "execution_count": null,
   "metadata": {},
   "outputs": [],
   "source": []
  },
  {
   "cell_type": "code",
   "execution_count": 34,
   "metadata": {},
   "outputs": [
    {
     "data": {
      "image/png": "[encoded data removed]",
      "text/plain": [
       "<matplotlib.figure.Figure at 0x7f9721b1ba20>"
      ]
     },
     "metadata": {},
     "output_type": "display_data"
    }
   ],
   "source": [
    "fig, ax = plt.subplots(figsize=(15,7))\n",
    "ax.plot(x,x)\n",
    "ax.set_xticks(x)\n",
    "ax.set_xticklabels(labels)\n",
    "plt.show()"
   ]
  },
  {
   "cell_type": "code",
   "execution_count": null,
   "metadata": {},
   "outputs": [],
   "source": []
  }
 ],
 "metadata": {
  "kernelspec": {
   "display_name": "Python 3",
   "language": "python",
   "name": "python3"
  },
  "language_info": {
   "codemirror_mode": {
    "name": "ipython",
    "version": 3
   },
   "file_extension": ".py",
   "mimetype": "text/x-python",
   "name": "python",
   "nbconvert_exporter": "python",
   "pygments_lexer": "ipython3",
   "version": "3.6.3"
  }
 },
 "nbformat": 4,
 "nbformat_minor": 2
}
