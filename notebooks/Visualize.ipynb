{
 "cells": [
  {
   "cell_type": "code",
   "execution_count": 2,
   "metadata": {},
   "outputs": [],
   "source": [
    "#import matplotlib\n",
    "%matplotlib qt4\n",
    "#%matplotlib nbagg\n"
   ]
  },
  {
   "cell_type": "code",
   "execution_count": 3,
   "metadata": {},
   "outputs": [
    {
     "name": "stderr",
     "output_type": "stream",
     "text": [
      "WARNING:hyperspy.api:The ipywidgets GUI elements are not available, probably because the hyperspy_gui_ipywidgets package is not installed.\n"
     ]
    }
   ],
   "source": [
    "import hyperspy.api as hs\n",
    "import matplotlib.pyplot as plt"
   ]
  },
  {
   "cell_type": "code",
   "execution_count": 4,
   "metadata": {},
   "outputs": [],
   "source": [
    "import numpy as np"
   ]
  },
  {
   "cell_type": "code",
   "execution_count": 5,
   "metadata": {},
   "outputs": [],
   "source": [
    "def gauss(sigma, eRange):\n",
    "    dE = eRange[1]-eRange[0]\n",
    "    gx = np.arange(-3*sigma,3*sigma, dE)\n",
    "    gaussian = np.exp(-0.5*(gx/sigma)**2)\n",
    "    gaussian = gaussian/np.sum(gaussian)\n",
    "    \n",
    "    gauss =np.zeros((len(gaussian),1,1,1))\n",
    "    gauss[:,0,0,0] = gaussian\n",
    "    return gauss"
   ]
  },
  {
   "cell_type": "code",
   "execution_count": 6,
   "metadata": {},
   "outputs": [],
   "source": [
    "def smooth(hist, eRange, sigma):\n",
    "    gaussian = gauss(sigma, eRange)\n",
    "    \n",
    "    crop_front = len(gaussian)//2\n",
    "    if len(gaussian)%2 == 1:\n",
    "        crop_end = crop_front\n",
    "    else:\n",
    "        crop_end = crop_front-1\n",
    "        \n",
    "    return signal.convolve(hist, gaussian)[crop_front:-crop_end]"
   ]
  },
  {
   "cell_type": "code",
   "execution_count": 7,
   "metadata": {},
   "outputs": [],
   "source": [
    "# Plot the DF, draw a ROI. Maneuver/resize it and close the window.\n",
    "def set_ROI(s, shape=\"circle\", interactive=False):\n",
    "    \"\"\" Selects an interactive region of interst to the signal\n",
    "    :param s: t\n",
    "    \"\"\"\n",
    "    import hyperspy.api as hs\n",
    " \n",
    "    if s.axes_manager.navigation_dimension < 2:\n",
    "        axes = \"sig\"\n",
    "        x_axis = s.axes_manager[s.axes_manager.signal_indices_in_array[1]]\n",
    "        y_axis = s.axes_manager[s.axes_manager.signal_indices_in_array[0]]\n",
    "    else:\n",
    "        axes = \"nav\"\n",
    "        x_axis = s.axes_manager[s.axes_manager.navigation_indices_in_array[1]]\n",
    "        y_axis = s.axes_manager[s.axes_manager.navigation_indices_in_array[0]]\n",
    "\n",
    "\n",
    "    if shape == \"circle\":\n",
    "        x = x_axis.axis[round(x_axis.size/2)]\n",
    "        y = y_axis.axis[round(y_axis.size/2)]\n",
    "\n",
    "        r_outer = x_axis.axis[round(3*x_axis.size/4)]\n",
    "    \n",
    "        sroi = hs.roi.CircleROI(x, y, r=r_outer)\n",
    "        \"\"\"\n",
    "        s.plot()\n",
    "        sroi= sroi.interactive(s) \n",
    "        ss = hs.interactive(f=sroi.sum, event=sroi.events.data_changed)\n",
    "        \"\"\"\n",
    "    elif shape == \"ring\":\n",
    "        x = x_axis.axis[round(x_axis.size/2)]\n",
    "        y = y_axis.axis[round(y_axis.size/2)]\n",
    "\n",
    "        r_outer = x_axis.axis[round(4*x_axis.size/5)]\n",
    "        r_inner = x_axis.axis[round(3*x_axis.size/4)]\n",
    "    \n",
    "        sroi = hs.roi.CircleROI(x, y, r=r_outer, r_inner=r_inner)\n",
    "        \"\"\"\n",
    "        s.plot()\n",
    "        sroi= sroi.interactive(s) \n",
    "        ss = hs.interactive(f=sroi.sum, event=sroi.events.data_changed)\n",
    "        \"\"\"\n",
    "    else:\n",
    "        if not shape == \"rectangle\":\n",
    "            print(\"Did not recognize shape, using rectangle\")\n",
    "        x1 = x_axis.axis[1]\n",
    "        x2 = x_axis.axis[round(x_axis.size/10)]\n",
    "        y1 = y_axis.axis[1]\n",
    "        y2 = y_axis.axis[round(y_axis.size/10)]\n",
    "\n",
    "        sroi = hs.roi.RectangularROI(x1, y1, x2, y2)\n",
    "        \n",
    "    if interactive:\n",
    "        s.plot()\n",
    "        roi_signal = sroi.interactive(s)\n",
    "        ss = hs.interactive(f=roi_signal.sum, event=roi_signal.events.data_changed) \n",
    "    else:\n",
    "        roi_signal = sroi(s)\n",
    "        ss = roi_signal.sum()\n",
    "        \n",
    "    return sroi, ss"
   ]
  },
  {
   "cell_type": "code",
   "execution_count": 8,
   "metadata": {},
   "outputs": [],
   "source": [
    "def signal_by_q(s, q_inner, q_outer):\n",
    "    \"\"\"Centers a hollow solid sphere in diffraction space and add signal from whidthin the solid\n",
    "    :param s: signal1D with 3D diffraction space\n",
    "    :param q_inner: inner radius of hollow solid sphere (defines the hollow sphere within)\n",
    "    :param q_outer: outer radius of hollow solid sphere (defines the solid range outside inner sphere)\n",
    "    :returns: the added signal from the hollow solid sphere\n",
    "    \"\"\"\n",
    "    # Center coordinate\n",
    "    x, y, = 0, 0\n",
    "    \n",
    "    # Get axes\n",
    "    z_axis = s.axes_manager[s.axes_manager.navigation_indices_in_array[2]]\n",
    "    x_axis = s.axes_manager[s.axes_manager.navigation_indices_in_array[1]]\n",
    "    y_axis = s.axes_manager[s.axes_manager.navigation_indices_in_array[0]]\n",
    "    E_axis = s.axes_manager.signal_axes[0]\n",
    "    \n",
    "    # Get shape of EEL spectra\n",
    "    E_shape = s.axes_manager.signal_shape[0]\n",
    "\n",
    "    # Crate output signal\n",
    "    sroi_signal = s.inav[0,0,0]\n",
    "    sroi_signal.data = np.zeros(E_shape)\n",
    "    \n",
    "    # Loop through one axe, select the corresponding 2D region of interst in the other two axes\n",
    "    for h in range(s.axes_manager.navigation_axes[-1].size):\n",
    "        r_inner = None\n",
    "        r_outer = None\n",
    "        if abs(z_axis.axis[h]) <= abs(q_outer):\n",
    "            r_outer = np.sqrt(q_outer**2-z_axis.axis[h]**2)\n",
    "        if abs(z_axis.axis[h]) <= abs(q_inner):\n",
    "            r_inner = np.sqrt(q_inner**2-z_axis.axis[h]**2)\n",
    "        \n",
    "        if r_outer:\n",
    "            s_temp = s.inav[:,:,h]\n",
    "            if r_inner:\n",
    "                sroi = hs.roi.CircleROI(x, y, r=r_outer, r_inner=r_inner)\n",
    "            else:\n",
    "                sroi = hs.roi.CircleROI(x, y, r=r_outer)\n",
    "            s_temp_signal = sroi(s_temp)\n",
    "            sroi_signal += s_temp_signal.sum()\n",
    "    return sroi_signal\n",
    "    "
   ]
  },
  {
   "cell_type": "code",
   "execution_count": 17,
   "metadata": {},
   "outputs": [
    {
     "data": {
      "text/plain": [
       "<Signal1D, title: Fermi 1.65, dimensions: (71, 71, 71|120)>"
      ]
     },
     "execution_count": 17,
     "metadata": {},
     "output_type": "execute_result"
    }
   ],
   "source": [
    "p = hs.load(\"../Results/smoothed/fermi_-1.65.hspy\")\n",
    "p = p.transpose((2,1,0))\n",
    "p = p.transpose()\n",
    "p"
   ]
  },
  {
   "cell_type": "code",
   "execution_count": null,
   "metadata": {
    "scrolled": true
   },
   "outputs": [],
   "source": [
    "#p.axes_manager"
   ]
  },
  {
   "cell_type": "code",
   "execution_count": null,
   "metadata": {},
   "outputs": [],
   "source": [
    "#p.metadata"
   ]
  },
  {
   "cell_type": "markdown",
   "metadata": {},
   "source": [
    "# Region of interest"
   ]
  },
  {
   "cell_type": "code",
   "execution_count": 22,
   "metadata": {},
   "outputs": [
    {
     "name": "stderr",
     "output_type": "stream",
     "text": [
      "WARNING:hyperspy.signal:<Signal2D, title: Fermi 1.65, dimensions: (71|71, 71)> data is replaced by its optimized copy\n"
     ]
    }
   ],
   "source": [
    "p_roi, p_roi_s = set_ROI(p,shape=\"circle\", interactive=True)\n",
    "p_roi_s.plot()"
   ]
  },
  {
   "cell_type": "markdown",
   "metadata": {},
   "source": [
    "# 2D-2D signal"
   ]
  },
  {
   "cell_type": "code",
   "execution_count": null,
   "metadata": {},
   "outputs": [],
   "source": [
    "p2d = p.as_signal2D((0,1))\n",
    "p2d.plot()"
   ]
  },
  {
   "cell_type": "markdown",
   "metadata": {},
   "source": [
    "# Comparison"
   ]
  },
  {
   "cell_type": "code",
   "execution_count": 18,
   "metadata": {},
   "outputs": [
    {
     "data": {
      "text/plain": [
       "<Signal1D, title: Fermi 3.4, dimensions: (71, 71, 71|120)>"
      ]
     },
     "execution_count": 18,
     "metadata": {},
     "output_type": "execute_result"
    }
   ],
   "source": [
    "pf = hs.load(\"../Results/smoothed/fermi_0.10.hspy\")\n",
    "pf = pf.transpose((2,1,0))\n",
    "pf = pf.transpose()\n",
    "pf"
   ]
  },
  {
   "cell_type": "code",
   "execution_count": null,
   "metadata": {},
   "outputs": [],
   "source": [
    "pf.plot()"
   ]
  },
  {
   "cell_type": "code",
   "execution_count": null,
   "metadata": {},
   "outputs": [],
   "source": [
    "#pf.axes_manager"
   ]
  },
  {
   "cell_type": "code",
   "execution_count": null,
   "metadata": {},
   "outputs": [],
   "source": [
    "#pf.metadata"
   ]
  },
  {
   "cell_type": "code",
   "execution_count": 19,
   "metadata": {
    "scrolled": true
   },
   "outputs": [],
   "source": [
    "p_roi, p_roi_s = set_ROI(p,shape=\"circle\")\n",
    "pf_roi, pf_roi_s = set_ROI(pf,shape=\"circle\")"
   ]
  },
  {
   "cell_type": "code",
   "execution_count": 39,
   "metadata": {},
   "outputs": [],
   "source": [
    "color_list = ['#1f77b4','#ff7f0e'] #,pf_roi_s\n",
    "hs.plot.plot_spectra([p_roi_s,pf_roi_s], legend='auto', color=color_list, legend_loc='best').figure.savefig(\"../Figures/Schleife2009/four_bands_both.png\")"
   ]
  },
  {
   "cell_type": "code",
   "execution_count": null,
   "metadata": {},
   "outputs": [],
   "source": [
    "p2d = pf.as_signal2D((0,1))\n",
    "p2d.plot()"
   ]
  },
  {
   "cell_type": "code",
   "execution_count": null,
   "metadata": {},
   "outputs": [],
   "source": [
    "hs.plot.plot_spectra([pf_roi_s, p_roi_s])"
   ]
  },
  {
   "cell_type": "code",
   "execution_count": null,
   "metadata": {},
   "outputs": [],
   "source": []
  },
  {
   "cell_type": "code",
   "execution_count": null,
   "metadata": {},
   "outputs": [],
   "source": []
  },
  {
   "cell_type": "code",
   "execution_count": 116,
   "metadata": {},
   "outputs": [],
   "source": [
    "signals = []\n",
    "fermi= [1.65, 3.485]\n",
    "bandGap = 3.3\n",
    "\n",
    "#folder=\"ZnO/twobands/truemass/\"\n",
    "#folder=\"ZnO/twobands/fermitest\"\n",
    "#for level in fermi:\n",
    "\n",
    "for level in fermi:\n",
    "    folder = \"Schleife2009/unreal_valence/51\"\n",
    "    signal = hs.load('../Results/%s/fermi_%.2f.hspy' %(folder,level-bandGap))\n",
    "    signals.append(signal)"
   ]
  },
  {
   "cell_type": "code",
   "execution_count": 117,
   "metadata": {},
   "outputs": [
    {
     "data": {
      "text/plain": [
       "[<Signal1D, title: Fermi 1.65, dimensions: (51, 51, 51|120)>,\n",
       " <Signal1D, title: Fermi 3.485, dimensions: (51, 51, 51|120)>]"
      ]
     },
     "execution_count": 117,
     "metadata": {},
     "output_type": "execute_result"
    }
   ],
   "source": [
    "signals"
   ]
  },
  {
   "cell_type": "code",
   "execution_count": 118,
   "metadata": {},
   "outputs": [],
   "source": [
    "eBin = np.linspace(3,5,80)\n",
    "s_sum = []\n",
    "for s in signals:\n",
    "    s_sum.append(s.sum().isig[:-1])\n",
    "#print(np.argwhere(s_sum[0].data))"
   ]
  },
  {
   "cell_type": "code",
   "execution_count": 119,
   "metadata": {},
   "outputs": [],
   "source": [
    "test = hs.plot.plot_spectra(s_sum, style=\"overlap\", legend_picking=True, color=color_list, legend='auto', legend_loc='upper left')"
   ]
  },
  {
   "cell_type": "code",
   "execution_count": 102,
   "metadata": {},
   "outputs": [],
   "source": [
    "plt.savefig(\"../Figures/Schleife2009_unreal_no_fermi.png\")"
   ]
  },
  {
   "cell_type": "code",
   "execution_count": 115,
   "metadata": {},
   "outputs": [],
   "source": [
    "plt.axvline(x=3.6490043197924233, linestyle='--', color='black')\n",
    "plt.savefig(\"../Figures/Schleife2009_unreal_width_fermi.png\")"
   ]
  },
  {
   "cell_type": "code",
   "execution_count": null,
   "metadata": {},
   "outputs": [],
   "source": [
    "direct = [3.2999999999999998,\n",
    " 3.373139744816207,\n",
    " 3.415420572004225,\n",
    " 3.4677780787057211,\n",
    " 3.5255874440286945,\n",
    " 3.5925589792648283,\n",
    " 3.635754316053164,\n",
    " 3.7091988974028101,\n",
    " 3.7512284972408558]\n",
    "\n",
    "fermi = [3.0,\n",
    "        3.35,\n",
    "        3.4,\n",
    "        3.45,\n",
    "        3.5,\n",
    "        3.55,\n",
    "        3.6,\n",
    "        3.65,\n",
    "        3.7]\n",
    "\n",
    "for i in range(1,len(direct)):\n",
    "    print(fermi[i],'\\t',direct[i]-fermi[i],'\\t',direct[i])\n",
    "\n",
    "for i in range(len(s_sum)):\n",
    "    s_sum[i].add_marker(hs.plot.markers.vertical_line(direct[i]))"
   ]
  },
  {
   "cell_type": "code",
   "execution_count": null,
   "metadata": {},
   "outputs": [],
   "source": []
  },
  {
   "cell_type": "code",
   "execution_count": null,
   "metadata": {},
   "outputs": [],
   "source": [
    "ROI_signal = []\n",
    "for s in signals:\n",
    "    p_roi, p_roi_s = set_ROI(s,shape=\"circle\")\n",
    "    ROI_signal.append(p_roi_s)"
   ]
  },
  {
   "cell_type": "code",
   "execution_count": null,
   "metadata": {},
   "outputs": [],
   "source": [
    "hs.plot.plot_spectra(ROI_signal, legend='auto', legend_loc='best')"
   ]
  },
  {
   "cell_type": "code",
   "execution_count": null,
   "metadata": {},
   "outputs": [],
   "source": []
  }
 ],
 "metadata": {
  "kernelspec": {
   "display_name": "Python 3",
   "language": "python",
   "name": "python3"
  },
  "language_info": {
   "codemirror_mode": {
    "name": "ipython",
    "version": 3
   },
   "file_extension": ".py",
   "mimetype": "text/x-python",
   "name": "python",
   "nbconvert_exporter": "python",
   "pygments_lexer": "ipython3",
   "version": "3.6.2"
  }
 },
 "nbformat": 4,
 "nbformat_minor": 2
}
