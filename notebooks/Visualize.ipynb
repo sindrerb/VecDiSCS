{
 "cells": [
  {
   "cell_type": "code",
   "execution_count": 1,
   "metadata": {},
   "outputs": [],
   "source": [
    "#import matplotlib\n",
    "%matplotlib qt4\n",
    "#%matplotlib nbagg\n"
   ]
  },
  {
   "cell_type": "code",
   "execution_count": 2,
   "metadata": {},
   "outputs": [
    {
     "name": "stderr",
     "output_type": "stream",
     "text": [
      "WARNING:hyperspy.api:The ipywidgets GUI elements are not available, probably because the hyperspy_gui_ipywidgets package is not installed.\n"
     ]
    }
   ],
   "source": [
    "import hyperspy.api as hs\n",
    "import matplotlib.pyplot as plt"
   ]
  },
  {
   "cell_type": "code",
   "execution_count": 3,
   "metadata": {},
   "outputs": [],
   "source": [
    "import numpy as np"
   ]
  },
  {
   "cell_type": "code",
   "execution_count": 325,
   "metadata": {},
   "outputs": [],
   "source": [
    "def gauss(sigma, eRange):\n",
    "    dE = eRange[1]-eRange[0]\n",
    "    gx = np.arange(-3*sigma,3*sigma, dE)\n",
    "    gaussian = np.exp(-0.5*(gx/sigma)**2)\n",
    "    gaussian = gaussian/np.sum(gaussian)\n",
    "    \n",
    "    gauss =np.zeros((len(gaussian),1,1,1))\n",
    "    gauss[:,0,0,0] = gaussian\n",
    "    return gauss"
   ]
  },
  {
   "cell_type": "code",
   "execution_count": 327,
   "metadata": {},
   "outputs": [],
   "source": [
    "def smooth(hist, eRange, sigma):\n",
    "    gaussian = gauss(sigma, eRange)\n",
    "    \n",
    "    crop_front = len(gaussian)//2\n",
    "    if len(gaussian)%2 == 1:\n",
    "        crop_end = crop_front\n",
    "    else:\n",
    "        crop_end = crop_front-1\n",
    "        \n",
    "    return signal.convolve(hist, gaussian)[crop_front:-crop_end]"
   ]
  },
  {
   "cell_type": "code",
   "execution_count": 4,
   "metadata": {},
   "outputs": [],
   "source": [
    "# Plot the DF, draw a ROI. Maneuver/resize it and close the window.\n",
    "def set_ROI(s, shape=\"circle\"):\n",
    "    \"\"\" Selects an interactive region of interst to the signal\n",
    "    :param s: t\n",
    "    \"\"\"\n",
    "    import hyperspy.api as hs\n",
    " \n",
    "    if s.axes_manager.navigation_dimension < 2:\n",
    "        axes = \"sig\"\n",
    "        x_axis = s.axes_manager[s.axes_manager.signal_indices_in_array[1]]\n",
    "        y_axis = s.axes_manager[s.axes_manager.signal_indices_in_array[0]]\n",
    "    else:\n",
    "        axes = \"nav\"\n",
    "        x_axis = s.axes_manager[s.axes_manager.navigation_indices_in_array[1]]\n",
    "        y_axis = s.axes_manager[s.axes_manager.navigation_indices_in_array[0]]\n",
    "\n",
    "\n",
    "    if shape == \"circle\":\n",
    "        x = x_axis.axis[round(x_axis.size/2)]\n",
    "        y = y_axis.axis[round(y_axis.size/2)]\n",
    "\n",
    "        r_outer = x_axis.axis[round(3*x_axis.size/4)]\n",
    "    \n",
    "        sroi = hs.roi.CircleROI(x, y, r=r_outer)\n",
    "        s.plot()\n",
    "        sroi= sroi.interactive(s) \n",
    "        ss = hs.interactive(f=sroi.sum, event=sroi.events.data_changed)\n",
    "        \n",
    "    elif shape == \"ring\":\n",
    "        x = x_axis.axis[round(x_axis.size/2)]\n",
    "        y = y_axis.axis[round(y_axis.size/2)]\n",
    "\n",
    "        r_outer = x_axis.axis[round(4*x_axis.size/5)]\n",
    "        r_inner = x_axis.axis[round(3*x_axis.size/4)]\n",
    "    \n",
    "        sroi = hs.roi.CircleROI(x, y, r=r_outer, r_inner=r_inner)\n",
    "        s.plot()\n",
    "        sroi= sroi.interactive(s) \n",
    "        ss = hs.interactive(f=sroi.sum, event=sroi.events.data_changed)\n",
    "    else:\n",
    "        if not shape == \"rectangle\":\n",
    "            print(\"Did not recognize shape, using rectangle\")\n",
    "        x1 = x_axis.axis[1]\n",
    "        x2 = x_axis.axis[round(x_axis.size/10)]\n",
    "        y1 = y_axis.axis[1]\n",
    "        y2 = y_axis.axis[round(y_axis.size/10)]\n",
    "\n",
    "        sroi = hs.roi.RectangularROI(x1, y1, x2, y2)\n",
    "        s.plot()\n",
    "        roi_signal = sroi.interactive(s)\n",
    "        ss = hs.interactive(f=roi_signal.sum, event=roi_signal.events.data_changed) \n",
    "        \n",
    "        \n",
    "    return sroi, ss"
   ]
  },
  {
   "cell_type": "code",
   "execution_count": 277,
   "metadata": {},
   "outputs": [],
   "source": [
    "def signal_by_q(s, q_inner, q_outer):\n",
    "    \"\"\"Centers a hollow solid sphere in diffraction space and add signal from whidthin the solid\n",
    "    :param s: signal1D with 3D diffraction space\n",
    "    :param q_inner: inner radius of hollow solid sphere (defines the hollow sphere within)\n",
    "    :param q_outer: outer radius of hollow solid sphere (defines the solid range outside inner sphere)\n",
    "    :returns: the added signal from the hollow solid sphere\n",
    "    \"\"\"\n",
    "    # Center coordinate\n",
    "    x, y, = 0, 0\n",
    "    \n",
    "    # Get axes\n",
    "    z_axis = s.axes_manager[s.axes_manager.navigation_indices_in_array[2]]\n",
    "    x_axis = s.axes_manager[s.axes_manager.navigation_indices_in_array[1]]\n",
    "    y_axis = s.axes_manager[s.axes_manager.navigation_indices_in_array[0]]\n",
    "    E_axis = s.axes_manager.signal_axes[0]\n",
    "    \n",
    "    # Get shape of EEL spectra\n",
    "    E_shape = s.axes_manager.signal_shape[0]\n",
    "\n",
    "    # Crate output signal\n",
    "    sroi_signal = s.inav[0,0,0]\n",
    "    sroi_signal.data = np.zeros(E_shape)\n",
    "    \n",
    "    # Loop through one axe, select the corresponding 2D region of interst in the other two axes\n",
    "    for h in range(s.axes_manager.navigation_axes[-1].size):\n",
    "        r_inner = None\n",
    "        r_outer = None\n",
    "        if abs(z_axis.axis[h]) <= abs(q_outer):\n",
    "            r_outer = np.sqrt(q_outer**2-z_axis.axis[h]**2)\n",
    "        if abs(z_axis.axis[h]) <= abs(q_inner):\n",
    "            r_inner = np.sqrt(q_inner**2-z_axis.axis[h]**2)\n",
    "        \n",
    "        if r_outer:\n",
    "            s_temp = s.inav[:,:,h]\n",
    "            if r_inner:\n",
    "                sroi = hs.roi.CircleROI(x, y, r=r_outer, r_inner=r_inner)\n",
    "            else:\n",
    "                sroi = hs.roi.CircleROI(x, y, r=r_outer)\n",
    "            s_temp_signal = sroi(s_temp)\n",
    "            sroi_signal += s_temp_signal.sum()\n",
    "    return sroi_signal\n",
    "    "
   ]
  },
  {
   "cell_type": "code",
   "execution_count": 328,
   "metadata": {},
   "outputs": [
    {
     "data": {
      "text/plain": [
       "<Signal1D, title: , dimensions: (51, 51, 51|80)>"
      ]
     },
     "execution_count": 328,
     "metadata": {},
     "output_type": "execute_result"
    }
   ],
   "source": [
    "p = hs.load(\"../Examples/direct.hspy\")\n",
    "p = p.transpose((2,1,0))\n",
    "p = p.transpose()\n",
    "p"
   ]
  },
  {
   "cell_type": "code",
   "execution_count": 329,
   "metadata": {
    "scrolled": true
   },
   "outputs": [
    {
     "data": {
      "text/html": [
       "<style>\n",
       "table, th, td {\n",
       "\tborder: 1px solid black;\n",
       "\tborder-collapse: collapse;\n",
       "}\n",
       "th, td {\n",
       "\tpadding: 5px;\n",
       "}\n",
       "</style>\n",
       "<p><b>< Axes manager, axes: (51, 51, 51|80) ></b></p>\n",
       "<table style='width:100%'>\n",
       "\n",
       "<tr> \n",
       "<th>Navigation axis name</th> \n",
       "<th>size</th> \n",
       "<th>index</th> \n",
       "<th>offset</th> \n",
       "<th>scale</th> \n",
       "<th>units</th> </tr>\n",
       "<tr> \n",
       "<td>q_a</td> \n",
       "<td>51</td> \n",
       "<td>0</td> \n",
       "<td>-0.5</td> \n",
       "<td>0.0196078431372549</td> \n",
       "<td>a*</td> </tr>\n",
       "<tr> \n",
       "<td>q_b</td> \n",
       "<td>51</td> \n",
       "<td>0</td> \n",
       "<td>-0.5</td> \n",
       "<td>0.0196078431372549</td> \n",
       "<td>b*</td> </tr>\n",
       "<tr> \n",
       "<td>q_c</td> \n",
       "<td>51</td> \n",
       "<td>0</td> \n",
       "<td>-0.5</td> \n",
       "<td>0.0196078431372549</td> \n",
       "<td>c*</td> </tr></table>\n",
       "<table style='width:100%'>\n",
       "\n",
       "<tr> \n",
       "<th>Signal axis name</th> \n",
       "<th>size</th> \n",
       "<th>offset</th> \n",
       "<th>scale</th> \n",
       "<th>units</th> </tr>\n",
       "<tr> \n",
       "<td>Energy Loss</td> \n",
       "<td>80</td> \n",
       "<td>3.0</td> \n",
       "<td>0.05063291139240489</td> \n",
       "<td>eV</td> </tr></table>\n"
      ],
      "text/plain": [
       "<Axes manager, axes: (51, 51, 51|80)>\n",
       "            Name |   size |  index |  offset |   scale |  units \n",
       "================ | ====== | ====== | ======= | ======= | ====== \n",
       "             q_a |     51 |      0 |    -0.5 |    0.02 |     a* \n",
       "             q_b |     51 |      0 |    -0.5 |    0.02 |     b* \n",
       "             q_c |     51 |      0 |    -0.5 |    0.02 |     c* \n",
       "---------------- | ------ | ------ | ------- | ------- | ------ \n",
       "     Energy Loss |     80 |        |       3 |   0.051 |     eV "
      ]
     },
     "execution_count": 329,
     "metadata": {},
     "output_type": "execute_result"
    }
   ],
   "source": [
    "p.axes_manager"
   ]
  },
  {
   "cell_type": "code",
   "execution_count": 330,
   "metadata": {},
   "outputs": [
    {
     "data": {
      "text/plain": [
       "<Signal1D, title: , dimensions: (51, 51, 51|80)>"
      ]
     },
     "execution_count": 330,
     "metadata": {},
     "output_type": "execute_result"
    }
   ],
   "source": [
    "pf = hs.load(\"../Examples/indirect_x.hspy\")\n",
    "pf = pf.transpose((2,1,0))\n",
    "pf = pf.transpose()\n",
    "pf"
   ]
  },
  {
   "cell_type": "code",
   "execution_count": 332,
   "metadata": {
    "scrolled": true
   },
   "outputs": [
    {
     "name": "stderr",
     "output_type": "stream",
     "text": [
      "WARNING:hyperspy.signal:<Signal2D, title: , dimensions: (51|51, 51)> data is replaced by its optimized copy\n",
      "WARNING:hyperspy.signal:<Signal2D, title: , dimensions: (51|51, 51)> data is replaced by its optimized copy\n"
     ]
    }
   ],
   "source": [
    "p_roi, p_roi_s = set_ROI(p)\n",
    "pf_roi, pf_roi_s = set_ROI(pf)"
   ]
  },
  {
   "cell_type": "code",
   "execution_count": 303,
   "metadata": {},
   "outputs": [
    {
     "name": "stderr",
     "output_type": "stream",
     "text": [
      "WARNING:hyperspy.signal:<Signal2D, title: , dimensions: (80, 51|51, 51)> data is replaced by its optimized copy\n"
     ]
    }
   ],
   "source": [
    "p2d = p.as_signal2D((0,1))\n",
    "p2d.plot()"
   ]
  },
  {
   "cell_type": "code",
   "execution_count": 338,
   "metadata": {},
   "outputs": [
    {
     "data": {
      "text/plain": [
       "<matplotlib.axes._subplots.AxesSubplot at 0x7efc41e49ba8>"
      ]
     },
     "execution_count": 338,
     "metadata": {},
     "output_type": "execute_result"
    }
   ],
   "source": [
    "hs.plot.plot_spectra([pf_roi_s, p_roi_s])"
   ]
  },
  {
   "cell_type": "code",
   "execution_count": null,
   "metadata": {},
   "outputs": [],
   "source": []
  }
 ],
 "metadata": {
  "kernelspec": {
   "display_name": "Python 3",
   "language": "python",
   "name": "python3"
  },
  "language_info": {
   "codemirror_mode": {
    "name": "ipython",
    "version": 3
   },
   "file_extension": ".py",
   "mimetype": "text/x-python",
   "name": "python",
   "nbconvert_exporter": "python",
   "pygments_lexer": "ipython3",
   "version": "3.6.2"
  }
 },
 "nbformat": 4,
 "nbformat_minor": 2
}
